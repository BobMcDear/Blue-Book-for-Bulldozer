{
  "nbformat": 4,
  "nbformat_minor": 0,
  "metadata": {
    "colab": {
      "name": "blueBookForBulldozers.ipynb",
      "provenance": [],
      "collapsed_sections": [
        "LBdu7RAq5paS",
        "id-9snHz5P7X",
        "RoSxfzx05cO7",
        "EetZ6BOieyXw",
        "gfNDNSXKpymB",
        "Eqb0d6QLqyc7",
        "DWZz3DqQrQ_2",
        "rMPoi7urcABG",
        "PmD5jshJiwrL",
        "j5dEJPJkEyl0"
      ],
      "authorship_tag": "ABX9TyMnT+3L+9xxF0ZfMwVFgyy2",
      "include_colab_link": true
    },
    "kernelspec": {
      "name": "python3",
      "display_name": "Python 3"
    },
    "accelerator": "GPU"
  },
  "cells": [
    {
      "cell_type": "markdown",
      "metadata": {
        "id": "view-in-github",
        "colab_type": "text"
      },
      "source": [
        "<a href=\"https://colab.research.google.com/github/BobMcDear/Blue-Book-for-Bulldozer/blob/main/blueBookForBulldozers.ipynb\" target=\"_parent\"><img src=\"https://colab.research.google.com/assets/colab-badge.svg\" alt=\"Open In Colab\"/></a>"
      ]
    },
    {
      "cell_type": "code",
      "metadata": {
        "id": "qpy-6dMFmmAT"
      },
      "source": [
        "!pip install fastai==0.7\n",
        "!pip install scikit-learn==0.21\n",
        "!pip install kaggle"
      ],
      "execution_count": null,
      "outputs": []
    },
    {
      "cell_type": "code",
      "metadata": {
        "id": "o1rHVHmEZK14"
      },
      "source": [
        "from fastai.structured import *\n",
        "from fastai.imports import *\n",
        "from sklearn.ensemble import RandomForestRegressor, RandomForestClassifier"
      ],
      "execution_count": null,
      "outputs": []
    },
    {
      "cell_type": "code",
      "metadata": {
        "id": "vkopAIYKWCmR"
      },
      "source": [
        "from google.colab import files"
      ],
      "execution_count": null,
      "outputs": []
    },
    {
      "cell_type": "code",
      "metadata": {
        "id": "u2aqFMSvT02b"
      },
      "source": [
        "%matplotlib inline\n",
        "%reload_ext autoreload\n",
        "%autoreload 2"
      ],
      "execution_count": null,
      "outputs": []
    },
    {
      "cell_type": "code",
      "metadata": {
        "id": "kqUritrrPOEa"
      },
      "source": [
        "# For uploading a Kaggle API token\n",
        "files.upload()"
      ],
      "execution_count": null,
      "outputs": []
    },
    {
      "cell_type": "code",
      "metadata": {
        "id": "HIu3jMsJPPG3"
      },
      "source": [
        "# For downloading the dataset\n",
        "!mkdir ~/.kaggle\n",
        "!mv kaggle.json ~/.kaggle\n",
        "!kaggle competitions download -c bluebook-for-bulldozers"
      ],
      "execution_count": null,
      "outputs": []
    },
    {
      "cell_type": "code",
      "metadata": {
        "id": "x08a9249PbDh"
      },
      "source": [
        "!unzip Train.zip"
      ],
      "execution_count": null,
      "outputs": []
    },
    {
      "cell_type": "markdown",
      "metadata": {
        "id": "LBdu7RAq5paS"
      },
      "source": [
        "### Data Pre-processing"
      ]
    },
    {
      "cell_type": "code",
      "metadata": {
        "id": "Ph4SwO3SYbZq"
      },
      "source": [
        "df_raw = pd.read_csv('Train.csv', low_memory=False, parse_dates=['saledate'])\n",
        "df_raw.sort_values('saledate', inplace=True)"
      ],
      "execution_count": null,
      "outputs": []
    },
    {
      "cell_type": "code",
      "metadata": {
        "id": "vZb_An5Qo4an",
        "colab": {
          "base_uri": "https://localhost:8080/",
          "height": 343
        },
        "outputId": "1744f6dd-9346-4b44-ce0e-2fc951466cad"
      },
      "source": [
        "df_raw.head()"
      ],
      "execution_count": null,
      "outputs": [
        {
          "output_type": "execute_result",
          "data": {
            "text/html": [
              "<div>\n",
              "<style scoped>\n",
              "    .dataframe tbody tr th:only-of-type {\n",
              "        vertical-align: middle;\n",
              "    }\n",
              "\n",
              "    .dataframe tbody tr th {\n",
              "        vertical-align: top;\n",
              "    }\n",
              "\n",
              "    .dataframe thead th {\n",
              "        text-align: right;\n",
              "    }\n",
              "</style>\n",
              "<table border=\"1\" class=\"dataframe\">\n",
              "  <thead>\n",
              "    <tr style=\"text-align: right;\">\n",
              "      <th></th>\n",
              "      <th>SalesID</th>\n",
              "      <th>SalePrice</th>\n",
              "      <th>MachineID</th>\n",
              "      <th>ModelID</th>\n",
              "      <th>datasource</th>\n",
              "      <th>auctioneerID</th>\n",
              "      <th>YearMade</th>\n",
              "      <th>MachineHoursCurrentMeter</th>\n",
              "      <th>UsageBand</th>\n",
              "      <th>saledate</th>\n",
              "      <th>fiModelDesc</th>\n",
              "      <th>fiBaseModel</th>\n",
              "      <th>fiSecondaryDesc</th>\n",
              "      <th>fiModelSeries</th>\n",
              "      <th>fiModelDescriptor</th>\n",
              "      <th>ProductSize</th>\n",
              "      <th>fiProductClassDesc</th>\n",
              "      <th>state</th>\n",
              "      <th>ProductGroup</th>\n",
              "      <th>ProductGroupDesc</th>\n",
              "      <th>Drive_System</th>\n",
              "      <th>Enclosure</th>\n",
              "      <th>Forks</th>\n",
              "      <th>Pad_Type</th>\n",
              "      <th>Ride_Control</th>\n",
              "      <th>Stick</th>\n",
              "      <th>Transmission</th>\n",
              "      <th>Turbocharged</th>\n",
              "      <th>Blade_Extension</th>\n",
              "      <th>Blade_Width</th>\n",
              "      <th>Enclosure_Type</th>\n",
              "      <th>Engine_Horsepower</th>\n",
              "      <th>Hydraulics</th>\n",
              "      <th>Pushblock</th>\n",
              "      <th>Ripper</th>\n",
              "      <th>Scarifier</th>\n",
              "      <th>Tip_Control</th>\n",
              "      <th>Tire_Size</th>\n",
              "      <th>Coupler</th>\n",
              "      <th>Coupler_System</th>\n",
              "      <th>Grouser_Tracks</th>\n",
              "      <th>Hydraulics_Flow</th>\n",
              "      <th>Track_Type</th>\n",
              "      <th>Undercarriage_Pad_Width</th>\n",
              "      <th>Stick_Length</th>\n",
              "      <th>Thumb</th>\n",
              "      <th>Pattern_Changer</th>\n",
              "      <th>Grouser_Type</th>\n",
              "      <th>Backhoe_Mounting</th>\n",
              "      <th>Blade_Type</th>\n",
              "      <th>Travel_Controls</th>\n",
              "      <th>Differential_Type</th>\n",
              "      <th>Steering_Controls</th>\n",
              "    </tr>\n",
              "  </thead>\n",
              "  <tbody>\n",
              "    <tr>\n",
              "      <th>205615</th>\n",
              "      <td>1646770</td>\n",
              "      <td>9500</td>\n",
              "      <td>1126363</td>\n",
              "      <td>8434</td>\n",
              "      <td>132</td>\n",
              "      <td>18.0</td>\n",
              "      <td>1974</td>\n",
              "      <td>NaN</td>\n",
              "      <td>NaN</td>\n",
              "      <td>1989-01-17</td>\n",
              "      <td>TD20</td>\n",
              "      <td>TD20</td>\n",
              "      <td>NaN</td>\n",
              "      <td>NaN</td>\n",
              "      <td>NaN</td>\n",
              "      <td>Medium</td>\n",
              "      <td>Track Type Tractor, Dozer - 105.0 to 130.0 Hor...</td>\n",
              "      <td>Texas</td>\n",
              "      <td>TTT</td>\n",
              "      <td>Track Type Tractors</td>\n",
              "      <td>NaN</td>\n",
              "      <td>OROPS</td>\n",
              "      <td>NaN</td>\n",
              "      <td>NaN</td>\n",
              "      <td>NaN</td>\n",
              "      <td>NaN</td>\n",
              "      <td>Direct Drive</td>\n",
              "      <td>NaN</td>\n",
              "      <td>NaN</td>\n",
              "      <td>NaN</td>\n",
              "      <td>NaN</td>\n",
              "      <td>NaN</td>\n",
              "      <td>2 Valve</td>\n",
              "      <td>NaN</td>\n",
              "      <td>None or Unspecified</td>\n",
              "      <td>NaN</td>\n",
              "      <td>NaN</td>\n",
              "      <td>NaN</td>\n",
              "      <td>NaN</td>\n",
              "      <td>NaN</td>\n",
              "      <td>NaN</td>\n",
              "      <td>NaN</td>\n",
              "      <td>NaN</td>\n",
              "      <td>NaN</td>\n",
              "      <td>NaN</td>\n",
              "      <td>NaN</td>\n",
              "      <td>NaN</td>\n",
              "      <td>NaN</td>\n",
              "      <td>None or Unspecified</td>\n",
              "      <td>Straight</td>\n",
              "      <td>None or Unspecified</td>\n",
              "      <td>NaN</td>\n",
              "      <td>NaN</td>\n",
              "    </tr>\n",
              "    <tr>\n",
              "      <th>92803</th>\n",
              "      <td>1404019</td>\n",
              "      <td>24000</td>\n",
              "      <td>1169900</td>\n",
              "      <td>7110</td>\n",
              "      <td>132</td>\n",
              "      <td>99.0</td>\n",
              "      <td>1986</td>\n",
              "      <td>NaN</td>\n",
              "      <td>NaN</td>\n",
              "      <td>1989-01-31</td>\n",
              "      <td>416</td>\n",
              "      <td>416</td>\n",
              "      <td>NaN</td>\n",
              "      <td>NaN</td>\n",
              "      <td>NaN</td>\n",
              "      <td>NaN</td>\n",
              "      <td>Backhoe Loader - 14.0 to 15.0 Ft Standard Digg...</td>\n",
              "      <td>Florida</td>\n",
              "      <td>BL</td>\n",
              "      <td>Backhoe Loaders</td>\n",
              "      <td>Two Wheel Drive</td>\n",
              "      <td>EROPS</td>\n",
              "      <td>None or Unspecified</td>\n",
              "      <td>None or Unspecified</td>\n",
              "      <td>No</td>\n",
              "      <td>Standard</td>\n",
              "      <td>Standard</td>\n",
              "      <td>None or Unspecified</td>\n",
              "      <td>NaN</td>\n",
              "      <td>NaN</td>\n",
              "      <td>NaN</td>\n",
              "      <td>NaN</td>\n",
              "      <td>NaN</td>\n",
              "      <td>NaN</td>\n",
              "      <td>NaN</td>\n",
              "      <td>NaN</td>\n",
              "      <td>NaN</td>\n",
              "      <td>NaN</td>\n",
              "      <td>NaN</td>\n",
              "      <td>NaN</td>\n",
              "      <td>NaN</td>\n",
              "      <td>NaN</td>\n",
              "      <td>NaN</td>\n",
              "      <td>NaN</td>\n",
              "      <td>NaN</td>\n",
              "      <td>NaN</td>\n",
              "      <td>NaN</td>\n",
              "      <td>NaN</td>\n",
              "      <td>NaN</td>\n",
              "      <td>NaN</td>\n",
              "      <td>NaN</td>\n",
              "      <td>NaN</td>\n",
              "      <td>NaN</td>\n",
              "    </tr>\n",
              "    <tr>\n",
              "      <th>98346</th>\n",
              "      <td>1415646</td>\n",
              "      <td>35000</td>\n",
              "      <td>1262088</td>\n",
              "      <td>3357</td>\n",
              "      <td>132</td>\n",
              "      <td>99.0</td>\n",
              "      <td>1975</td>\n",
              "      <td>NaN</td>\n",
              "      <td>NaN</td>\n",
              "      <td>1989-01-31</td>\n",
              "      <td>12G</td>\n",
              "      <td>12</td>\n",
              "      <td>G</td>\n",
              "      <td>NaN</td>\n",
              "      <td>NaN</td>\n",
              "      <td>NaN</td>\n",
              "      <td>Motorgrader - 130.0 to 145.0 Horsepower</td>\n",
              "      <td>Florida</td>\n",
              "      <td>MG</td>\n",
              "      <td>Motor Graders</td>\n",
              "      <td>No</td>\n",
              "      <td>OROPS</td>\n",
              "      <td>NaN</td>\n",
              "      <td>NaN</td>\n",
              "      <td>NaN</td>\n",
              "      <td>NaN</td>\n",
              "      <td>None or Unspecified</td>\n",
              "      <td>NaN</td>\n",
              "      <td>None or Unspecified</td>\n",
              "      <td>12'</td>\n",
              "      <td>None or Unspecified</td>\n",
              "      <td>No</td>\n",
              "      <td>Base + 1 Function</td>\n",
              "      <td>None or Unspecified</td>\n",
              "      <td>None or Unspecified</td>\n",
              "      <td>Yes</td>\n",
              "      <td>Sideshift &amp; Tip</td>\n",
              "      <td>14\"</td>\n",
              "      <td>NaN</td>\n",
              "      <td>NaN</td>\n",
              "      <td>NaN</td>\n",
              "      <td>NaN</td>\n",
              "      <td>NaN</td>\n",
              "      <td>NaN</td>\n",
              "      <td>NaN</td>\n",
              "      <td>NaN</td>\n",
              "      <td>NaN</td>\n",
              "      <td>NaN</td>\n",
              "      <td>NaN</td>\n",
              "      <td>NaN</td>\n",
              "      <td>NaN</td>\n",
              "      <td>NaN</td>\n",
              "      <td>NaN</td>\n",
              "    </tr>\n",
              "    <tr>\n",
              "      <th>169297</th>\n",
              "      <td>1596358</td>\n",
              "      <td>19000</td>\n",
              "      <td>1433229</td>\n",
              "      <td>8247</td>\n",
              "      <td>132</td>\n",
              "      <td>99.0</td>\n",
              "      <td>1978</td>\n",
              "      <td>NaN</td>\n",
              "      <td>NaN</td>\n",
              "      <td>1989-01-31</td>\n",
              "      <td>644</td>\n",
              "      <td>644</td>\n",
              "      <td>NaN</td>\n",
              "      <td>NaN</td>\n",
              "      <td>NaN</td>\n",
              "      <td>Medium</td>\n",
              "      <td>Wheel Loader - 175.0 to 200.0 Horsepower</td>\n",
              "      <td>Florida</td>\n",
              "      <td>WL</td>\n",
              "      <td>Wheel Loader</td>\n",
              "      <td>NaN</td>\n",
              "      <td>OROPS</td>\n",
              "      <td>None or Unspecified</td>\n",
              "      <td>NaN</td>\n",
              "      <td>None or Unspecified</td>\n",
              "      <td>NaN</td>\n",
              "      <td>NaN</td>\n",
              "      <td>NaN</td>\n",
              "      <td>NaN</td>\n",
              "      <td>NaN</td>\n",
              "      <td>NaN</td>\n",
              "      <td>NaN</td>\n",
              "      <td>2 Valve</td>\n",
              "      <td>NaN</td>\n",
              "      <td>NaN</td>\n",
              "      <td>NaN</td>\n",
              "      <td>NaN</td>\n",
              "      <td>None or Unspecified</td>\n",
              "      <td>None or Unspecified</td>\n",
              "      <td>NaN</td>\n",
              "      <td>NaN</td>\n",
              "      <td>NaN</td>\n",
              "      <td>NaN</td>\n",
              "      <td>NaN</td>\n",
              "      <td>NaN</td>\n",
              "      <td>NaN</td>\n",
              "      <td>NaN</td>\n",
              "      <td>NaN</td>\n",
              "      <td>NaN</td>\n",
              "      <td>NaN</td>\n",
              "      <td>NaN</td>\n",
              "      <td>Standard</td>\n",
              "      <td>Conventional</td>\n",
              "    </tr>\n",
              "    <tr>\n",
              "      <th>274835</th>\n",
              "      <td>1821514</td>\n",
              "      <td>14000</td>\n",
              "      <td>1194089</td>\n",
              "      <td>10150</td>\n",
              "      <td>132</td>\n",
              "      <td>99.0</td>\n",
              "      <td>1980</td>\n",
              "      <td>NaN</td>\n",
              "      <td>NaN</td>\n",
              "      <td>1989-01-31</td>\n",
              "      <td>A66</td>\n",
              "      <td>A66</td>\n",
              "      <td>NaN</td>\n",
              "      <td>NaN</td>\n",
              "      <td>NaN</td>\n",
              "      <td>NaN</td>\n",
              "      <td>Wheel Loader - 120.0 to 135.0 Horsepower</td>\n",
              "      <td>Florida</td>\n",
              "      <td>WL</td>\n",
              "      <td>Wheel Loader</td>\n",
              "      <td>NaN</td>\n",
              "      <td>OROPS</td>\n",
              "      <td>None or Unspecified</td>\n",
              "      <td>NaN</td>\n",
              "      <td>None or Unspecified</td>\n",
              "      <td>NaN</td>\n",
              "      <td>NaN</td>\n",
              "      <td>NaN</td>\n",
              "      <td>NaN</td>\n",
              "      <td>NaN</td>\n",
              "      <td>NaN</td>\n",
              "      <td>NaN</td>\n",
              "      <td>2 Valve</td>\n",
              "      <td>NaN</td>\n",
              "      <td>NaN</td>\n",
              "      <td>NaN</td>\n",
              "      <td>NaN</td>\n",
              "      <td>None or Unspecified</td>\n",
              "      <td>None or Unspecified</td>\n",
              "      <td>NaN</td>\n",
              "      <td>NaN</td>\n",
              "      <td>NaN</td>\n",
              "      <td>NaN</td>\n",
              "      <td>NaN</td>\n",
              "      <td>NaN</td>\n",
              "      <td>NaN</td>\n",
              "      <td>NaN</td>\n",
              "      <td>NaN</td>\n",
              "      <td>NaN</td>\n",
              "      <td>NaN</td>\n",
              "      <td>NaN</td>\n",
              "      <td>Standard</td>\n",
              "      <td>Conventional</td>\n",
              "    </tr>\n",
              "  </tbody>\n",
              "</table>\n",
              "</div>"
            ],
            "text/plain": [
              "        SalesID  SalePrice  ...  Differential_Type  Steering_Controls\n",
              "205615  1646770       9500  ...                NaN                NaN\n",
              "92803   1404019      24000  ...                NaN                NaN\n",
              "98346   1415646      35000  ...                NaN                NaN\n",
              "169297  1596358      19000  ...           Standard       Conventional\n",
              "274835  1821514      14000  ...           Standard       Conventional\n",
              "\n",
              "[5 rows x 53 columns]"
            ]
          },
          "metadata": {
            "tags": []
          },
          "execution_count": 10
        }
      ]
    },
    {
      "cell_type": "code",
      "metadata": {
        "id": "wodKOw5go5qU",
        "colab": {
          "base_uri": "https://localhost:8080/",
          "height": 360
        },
        "outputId": "75455d11-bd65-4fbb-946e-b9a06d5fd660"
      },
      "source": [
        "df_raw.tail()"
      ],
      "execution_count": null,
      "outputs": [
        {
          "output_type": "execute_result",
          "data": {
            "text/html": [
              "<div>\n",
              "<style scoped>\n",
              "    .dataframe tbody tr th:only-of-type {\n",
              "        vertical-align: middle;\n",
              "    }\n",
              "\n",
              "    .dataframe tbody tr th {\n",
              "        vertical-align: top;\n",
              "    }\n",
              "\n",
              "    .dataframe thead th {\n",
              "        text-align: right;\n",
              "    }\n",
              "</style>\n",
              "<table border=\"1\" class=\"dataframe\">\n",
              "  <thead>\n",
              "    <tr style=\"text-align: right;\">\n",
              "      <th></th>\n",
              "      <th>SalesID</th>\n",
              "      <th>SalePrice</th>\n",
              "      <th>MachineID</th>\n",
              "      <th>ModelID</th>\n",
              "      <th>datasource</th>\n",
              "      <th>auctioneerID</th>\n",
              "      <th>YearMade</th>\n",
              "      <th>MachineHoursCurrentMeter</th>\n",
              "      <th>UsageBand</th>\n",
              "      <th>saledate</th>\n",
              "      <th>fiModelDesc</th>\n",
              "      <th>fiBaseModel</th>\n",
              "      <th>fiSecondaryDesc</th>\n",
              "      <th>fiModelSeries</th>\n",
              "      <th>fiModelDescriptor</th>\n",
              "      <th>ProductSize</th>\n",
              "      <th>fiProductClassDesc</th>\n",
              "      <th>state</th>\n",
              "      <th>ProductGroup</th>\n",
              "      <th>ProductGroupDesc</th>\n",
              "      <th>Drive_System</th>\n",
              "      <th>Enclosure</th>\n",
              "      <th>Forks</th>\n",
              "      <th>Pad_Type</th>\n",
              "      <th>Ride_Control</th>\n",
              "      <th>Stick</th>\n",
              "      <th>Transmission</th>\n",
              "      <th>Turbocharged</th>\n",
              "      <th>Blade_Extension</th>\n",
              "      <th>Blade_Width</th>\n",
              "      <th>Enclosure_Type</th>\n",
              "      <th>Engine_Horsepower</th>\n",
              "      <th>Hydraulics</th>\n",
              "      <th>Pushblock</th>\n",
              "      <th>Ripper</th>\n",
              "      <th>Scarifier</th>\n",
              "      <th>Tip_Control</th>\n",
              "      <th>Tire_Size</th>\n",
              "      <th>Coupler</th>\n",
              "      <th>Coupler_System</th>\n",
              "      <th>Grouser_Tracks</th>\n",
              "      <th>Hydraulics_Flow</th>\n",
              "      <th>Track_Type</th>\n",
              "      <th>Undercarriage_Pad_Width</th>\n",
              "      <th>Stick_Length</th>\n",
              "      <th>Thumb</th>\n",
              "      <th>Pattern_Changer</th>\n",
              "      <th>Grouser_Type</th>\n",
              "      <th>Backhoe_Mounting</th>\n",
              "      <th>Blade_Type</th>\n",
              "      <th>Travel_Controls</th>\n",
              "      <th>Differential_Type</th>\n",
              "      <th>Steering_Controls</th>\n",
              "    </tr>\n",
              "  </thead>\n",
              "  <tbody>\n",
              "    <tr>\n",
              "      <th>393123</th>\n",
              "      <td>6260878</td>\n",
              "      <td>13500</td>\n",
              "      <td>1799594</td>\n",
              "      <td>4102</td>\n",
              "      <td>149</td>\n",
              "      <td>2.0</td>\n",
              "      <td>1000</td>\n",
              "      <td>NaN</td>\n",
              "      <td>NaN</td>\n",
              "      <td>2011-12-30</td>\n",
              "      <td>D4C</td>\n",
              "      <td>D4</td>\n",
              "      <td>C</td>\n",
              "      <td>NaN</td>\n",
              "      <td>NaN</td>\n",
              "      <td>NaN</td>\n",
              "      <td>Track Type Tractor, Dozer - 75.0 to 85.0 Horse...</td>\n",
              "      <td>New York</td>\n",
              "      <td>TTT</td>\n",
              "      <td>Track Type Tractors</td>\n",
              "      <td>NaN</td>\n",
              "      <td>OROPS</td>\n",
              "      <td>NaN</td>\n",
              "      <td>NaN</td>\n",
              "      <td>NaN</td>\n",
              "      <td>NaN</td>\n",
              "      <td>Standard</td>\n",
              "      <td>NaN</td>\n",
              "      <td>NaN</td>\n",
              "      <td>NaN</td>\n",
              "      <td>NaN</td>\n",
              "      <td>NaN</td>\n",
              "      <td>2 Valve</td>\n",
              "      <td>NaN</td>\n",
              "      <td>None or Unspecified</td>\n",
              "      <td>NaN</td>\n",
              "      <td>NaN</td>\n",
              "      <td>NaN</td>\n",
              "      <td>NaN</td>\n",
              "      <td>NaN</td>\n",
              "      <td>NaN</td>\n",
              "      <td>NaN</td>\n",
              "      <td>NaN</td>\n",
              "      <td>NaN</td>\n",
              "      <td>NaN</td>\n",
              "      <td>NaN</td>\n",
              "      <td>NaN</td>\n",
              "      <td>NaN</td>\n",
              "      <td>None or Unspecified</td>\n",
              "      <td>PAT</td>\n",
              "      <td>None or Unspecified</td>\n",
              "      <td>NaN</td>\n",
              "      <td>NaN</td>\n",
              "    </tr>\n",
              "    <tr>\n",
              "      <th>397987</th>\n",
              "      <td>6288376</td>\n",
              "      <td>9750</td>\n",
              "      <td>1872596</td>\n",
              "      <td>4875</td>\n",
              "      <td>149</td>\n",
              "      <td>2.0</td>\n",
              "      <td>1000</td>\n",
              "      <td>NaN</td>\n",
              "      <td>NaN</td>\n",
              "      <td>2011-12-30</td>\n",
              "      <td>520C</td>\n",
              "      <td>520</td>\n",
              "      <td>C</td>\n",
              "      <td>NaN</td>\n",
              "      <td>NaN</td>\n",
              "      <td>Medium</td>\n",
              "      <td>Wheel Loader - 135.0 to 150.0 Horsepower</td>\n",
              "      <td>New York</td>\n",
              "      <td>WL</td>\n",
              "      <td>Wheel Loader</td>\n",
              "      <td>NaN</td>\n",
              "      <td>EROPS</td>\n",
              "      <td>None or Unspecified</td>\n",
              "      <td>NaN</td>\n",
              "      <td>None or Unspecified</td>\n",
              "      <td>NaN</td>\n",
              "      <td>NaN</td>\n",
              "      <td>NaN</td>\n",
              "      <td>NaN</td>\n",
              "      <td>NaN</td>\n",
              "      <td>NaN</td>\n",
              "      <td>NaN</td>\n",
              "      <td>2 Valve</td>\n",
              "      <td>NaN</td>\n",
              "      <td>NaN</td>\n",
              "      <td>NaN</td>\n",
              "      <td>NaN</td>\n",
              "      <td>None or Unspecified</td>\n",
              "      <td>None or Unspecified</td>\n",
              "      <td>NaN</td>\n",
              "      <td>NaN</td>\n",
              "      <td>NaN</td>\n",
              "      <td>NaN</td>\n",
              "      <td>NaN</td>\n",
              "      <td>NaN</td>\n",
              "      <td>NaN</td>\n",
              "      <td>NaN</td>\n",
              "      <td>NaN</td>\n",
              "      <td>NaN</td>\n",
              "      <td>NaN</td>\n",
              "      <td>NaN</td>\n",
              "      <td>Standard</td>\n",
              "      <td>Conventional</td>\n",
              "    </tr>\n",
              "    <tr>\n",
              "      <th>392664</th>\n",
              "      <td>6258093</td>\n",
              "      <td>14500</td>\n",
              "      <td>1877553</td>\n",
              "      <td>3170</td>\n",
              "      <td>149</td>\n",
              "      <td>2.0</td>\n",
              "      <td>1988</td>\n",
              "      <td>NaN</td>\n",
              "      <td>NaN</td>\n",
              "      <td>2011-12-30</td>\n",
              "      <td>580K</td>\n",
              "      <td>580</td>\n",
              "      <td>K</td>\n",
              "      <td>NaN</td>\n",
              "      <td>NaN</td>\n",
              "      <td>NaN</td>\n",
              "      <td>Backhoe Loader - 14.0 to 15.0 Ft Standard Digg...</td>\n",
              "      <td>New York</td>\n",
              "      <td>BL</td>\n",
              "      <td>Backhoe Loaders</td>\n",
              "      <td>Two Wheel Drive</td>\n",
              "      <td>EROPS</td>\n",
              "      <td>None or Unspecified</td>\n",
              "      <td>None or Unspecified</td>\n",
              "      <td>No</td>\n",
              "      <td>Extended</td>\n",
              "      <td>Standard</td>\n",
              "      <td>None or Unspecified</td>\n",
              "      <td>NaN</td>\n",
              "      <td>NaN</td>\n",
              "      <td>NaN</td>\n",
              "      <td>NaN</td>\n",
              "      <td>NaN</td>\n",
              "      <td>NaN</td>\n",
              "      <td>NaN</td>\n",
              "      <td>NaN</td>\n",
              "      <td>NaN</td>\n",
              "      <td>NaN</td>\n",
              "      <td>NaN</td>\n",
              "      <td>NaN</td>\n",
              "      <td>NaN</td>\n",
              "      <td>NaN</td>\n",
              "      <td>NaN</td>\n",
              "      <td>NaN</td>\n",
              "      <td>NaN</td>\n",
              "      <td>NaN</td>\n",
              "      <td>NaN</td>\n",
              "      <td>NaN</td>\n",
              "      <td>NaN</td>\n",
              "      <td>NaN</td>\n",
              "      <td>NaN</td>\n",
              "      <td>NaN</td>\n",
              "      <td>NaN</td>\n",
              "    </tr>\n",
              "    <tr>\n",
              "      <th>400458</th>\n",
              "      <td>6315563</td>\n",
              "      <td>12500</td>\n",
              "      <td>1869637</td>\n",
              "      <td>26456</td>\n",
              "      <td>149</td>\n",
              "      <td>2.0</td>\n",
              "      <td>2010</td>\n",
              "      <td>NaN</td>\n",
              "      <td>NaN</td>\n",
              "      <td>2011-12-30</td>\n",
              "      <td>L160</td>\n",
              "      <td>L160</td>\n",
              "      <td>NaN</td>\n",
              "      <td>NaN</td>\n",
              "      <td>NaN</td>\n",
              "      <td>Compact</td>\n",
              "      <td>Wheel Loader - 40.0 to 60.0 Horsepower</td>\n",
              "      <td>New York</td>\n",
              "      <td>WL</td>\n",
              "      <td>Wheel Loader</td>\n",
              "      <td>NaN</td>\n",
              "      <td>OROPS</td>\n",
              "      <td>None or Unspecified</td>\n",
              "      <td>NaN</td>\n",
              "      <td>None or Unspecified</td>\n",
              "      <td>NaN</td>\n",
              "      <td>NaN</td>\n",
              "      <td>NaN</td>\n",
              "      <td>NaN</td>\n",
              "      <td>NaN</td>\n",
              "      <td>NaN</td>\n",
              "      <td>NaN</td>\n",
              "      <td>2 Valve</td>\n",
              "      <td>NaN</td>\n",
              "      <td>NaN</td>\n",
              "      <td>NaN</td>\n",
              "      <td>NaN</td>\n",
              "      <td>None or Unspecified</td>\n",
              "      <td>None or Unspecified</td>\n",
              "      <td>NaN</td>\n",
              "      <td>NaN</td>\n",
              "      <td>NaN</td>\n",
              "      <td>NaN</td>\n",
              "      <td>NaN</td>\n",
              "      <td>NaN</td>\n",
              "      <td>NaN</td>\n",
              "      <td>NaN</td>\n",
              "      <td>NaN</td>\n",
              "      <td>NaN</td>\n",
              "      <td>NaN</td>\n",
              "      <td>NaN</td>\n",
              "      <td>Standard</td>\n",
              "      <td>Conventional</td>\n",
              "    </tr>\n",
              "    <tr>\n",
              "      <th>400217</th>\n",
              "      <td>6312170</td>\n",
              "      <td>11000</td>\n",
              "      <td>1812622</td>\n",
              "      <td>9580</td>\n",
              "      <td>149</td>\n",
              "      <td>2.0</td>\n",
              "      <td>2005</td>\n",
              "      <td>NaN</td>\n",
              "      <td>NaN</td>\n",
              "      <td>2011-12-30</td>\n",
              "      <td>T190</td>\n",
              "      <td>T190</td>\n",
              "      <td>NaN</td>\n",
              "      <td>NaN</td>\n",
              "      <td>NaN</td>\n",
              "      <td>NaN</td>\n",
              "      <td>Skid Steer Loader - 1751.0 to 2201.0 Lb Operat...</td>\n",
              "      <td>New York</td>\n",
              "      <td>SSL</td>\n",
              "      <td>Skid Steer Loaders</td>\n",
              "      <td>NaN</td>\n",
              "      <td>OROPS</td>\n",
              "      <td>None or Unspecified</td>\n",
              "      <td>NaN</td>\n",
              "      <td>NaN</td>\n",
              "      <td>NaN</td>\n",
              "      <td>NaN</td>\n",
              "      <td>NaN</td>\n",
              "      <td>NaN</td>\n",
              "      <td>NaN</td>\n",
              "      <td>NaN</td>\n",
              "      <td>NaN</td>\n",
              "      <td>Auxiliary</td>\n",
              "      <td>NaN</td>\n",
              "      <td>NaN</td>\n",
              "      <td>NaN</td>\n",
              "      <td>NaN</td>\n",
              "      <td>NaN</td>\n",
              "      <td>None or Unspecified</td>\n",
              "      <td>None or Unspecified</td>\n",
              "      <td>None or Unspecified</td>\n",
              "      <td>Standard</td>\n",
              "      <td>NaN</td>\n",
              "      <td>NaN</td>\n",
              "      <td>NaN</td>\n",
              "      <td>NaN</td>\n",
              "      <td>NaN</td>\n",
              "      <td>NaN</td>\n",
              "      <td>NaN</td>\n",
              "      <td>NaN</td>\n",
              "      <td>NaN</td>\n",
              "      <td>NaN</td>\n",
              "      <td>NaN</td>\n",
              "    </tr>\n",
              "  </tbody>\n",
              "</table>\n",
              "</div>"
            ],
            "text/plain": [
              "        SalesID  SalePrice  ...  Differential_Type  Steering_Controls\n",
              "393123  6260878      13500  ...                NaN                NaN\n",
              "397987  6288376       9750  ...           Standard       Conventional\n",
              "392664  6258093      14500  ...                NaN                NaN\n",
              "400458  6315563      12500  ...           Standard       Conventional\n",
              "400217  6312170      11000  ...                NaN                NaN\n",
              "\n",
              "[5 rows x 53 columns]"
            ]
          },
          "metadata": {
            "tags": []
          },
          "execution_count": 10
        }
      ]
    },
    {
      "cell_type": "code",
      "metadata": {
        "id": "CGTMELUErA4A"
      },
      "source": [
        "# To extract information from 'saledate'\n",
        "add_datepart(df_raw, 'saledate')\n",
        "# Maps string categorical variables to integers\n",
        "train_cats(df_raw)\n",
        "# Ordering values associated with 'ProductSize'\n",
        "df_raw['ProductSize'] = (df_raw['ProductSize'].cat.\n",
        "                        reorder_categories(['Compact', 'Mini', 'Small', 'Medium',\n",
        "                                            'Large / Medium', 'Large']))\n",
        "# Deals with missing values and numericalizes the string columns \n",
        "df, y, nas = proc_df(df_raw, y_fld='SalePrice')\n",
        "# Kaggle's evaluation metric is RMSLE (root mean squared log error) so we can just predict the log of the prices and take the RMSE\n",
        "y = np.log(y)"
      ],
      "execution_count": null,
      "outputs": []
    },
    {
      "cell_type": "code",
      "metadata": {
        "id": "_OkaFPMes5h4"
      },
      "source": [
        "df.sample(5)"
      ],
      "execution_count": null,
      "outputs": []
    },
    {
      "cell_type": "markdown",
      "metadata": {
        "id": "id-9snHz5P7X"
      },
      "source": [
        "### Choosing a Validation Set"
      ]
    },
    {
      "cell_type": "code",
      "metadata": {
        "id": "6Y9iGLbo3W5g"
      },
      "source": [
        "# Splits the data into two sets, the first set has n_trn rows\n",
        "def split_valid(a, n_trn):\n",
        "  return a[:n_trn], a[n_trn:]"
      ],
      "execution_count": null,
      "outputs": []
    },
    {
      "cell_type": "code",
      "metadata": {
        "id": "7M5kdgTj3XEt",
        "colab": {
          "base_uri": "https://localhost:8080/",
          "height": 197
        },
        "outputId": "414d3dce-6256-4b97-90ed-262d3e9bb4c8"
      },
      "source": [
        "n_tst = 12000\n",
        "n_trn = len(df) - n_tst\n",
        "X, X_test = split_valid(df.copy(), n_trn)\n",
        "y, y_test = split_valid(y, n_trn)"
      ],
      "execution_count": null,
      "outputs": [
        {
          "output_type": "error",
          "ename": "NameError",
          "evalue": "ignored",
          "traceback": [
            "\u001b[0;31m---------------------------------------------------------------------------\u001b[0m",
            "\u001b[0;31mNameError\u001b[0m                                 Traceback (most recent call last)",
            "\u001b[0;32m<ipython-input-37-2a6992319aad>\u001b[0m in \u001b[0;36m<module>\u001b[0;34m()\u001b[0m\n\u001b[1;32m      2\u001b[0m \u001b[0mn_trn\u001b[0m \u001b[0;34m=\u001b[0m \u001b[0mlen\u001b[0m\u001b[0;34m(\u001b[0m\u001b[0mdf\u001b[0m\u001b[0;34m)\u001b[0m \u001b[0;34m-\u001b[0m \u001b[0mn_tst\u001b[0m\u001b[0;34m\u001b[0m\u001b[0;34m\u001b[0m\u001b[0m\n\u001b[1;32m      3\u001b[0m \u001b[0mX\u001b[0m\u001b[0;34m,\u001b[0m \u001b[0mX_test\u001b[0m \u001b[0;34m=\u001b[0m \u001b[0msplit_valid\u001b[0m\u001b[0;34m(\u001b[0m\u001b[0mdf\u001b[0m\u001b[0;34m.\u001b[0m\u001b[0mcopy\u001b[0m\u001b[0;34m(\u001b[0m\u001b[0;34m)\u001b[0m\u001b[0;34m,\u001b[0m \u001b[0mn_trn\u001b[0m\u001b[0;34m)\u001b[0m\u001b[0;34m\u001b[0m\u001b[0;34m\u001b[0m\u001b[0m\n\u001b[0;32m----> 4\u001b[0;31m \u001b[0my\u001b[0m\u001b[0;34m,\u001b[0m \u001b[0my_test\u001b[0m \u001b[0;34m=\u001b[0m \u001b[0msplit_valid\u001b[0m\u001b[0;34m(\u001b[0m\u001b[0my\u001b[0m\u001b[0;34m,\u001b[0m \u001b[0mn_trn\u001b[0m\u001b[0;34m)\u001b[0m\u001b[0;34m\u001b[0m\u001b[0;34m\u001b[0m\u001b[0m\n\u001b[0m",
            "\u001b[0;31mNameError\u001b[0m: name 'y' is not defined"
          ]
        }
      ]
    },
    {
      "cell_type": "code",
      "metadata": {
        "id": "dMi52JYj3Ylh"
      },
      "source": [
        "X_test.head()"
      ],
      "execution_count": null,
      "outputs": []
    },
    {
      "cell_type": "code",
      "metadata": {
        "id": "HuccjFtY3bMU"
      },
      "source": [
        "X_test.tail()"
      ],
      "execution_count": null,
      "outputs": []
    },
    {
      "cell_type": "code",
      "metadata": {
        "id": "ATgG6fgs5aNO"
      },
      "source": [
        "# Splits the data into a validation set given a specific time interval\n",
        "def split_valid_saledate(X, y, yr_start, m_start, d_start, yr_end, m_end, d_end):\n",
        "  # Find the indices of the beginning and end rows of our validation set\n",
        "  valid_start = X[(X['saleYear'] == yr_start) & (X['saleMonth'] == m_start) & (X['saleDay'] == d_start)].index[0]\n",
        "  valid_end = X[(X['saleYear'] == yr_end) & (X['saleMonth'] == m_end) & (X['saleDay'] == d_end)].index[-1]\n",
        "  # The indices of the validation rows\n",
        "  valid_ind = np.arange(valid_start, valid_end+1)\n",
        "  X_train, X_valid = X.loc[:valid_start-1], X.loc[valid_ind]\n",
        "  y_train, y_valid = y[:valid_start], y[valid_ind]\n",
        "  return X_train, y_train, X_valid, y_valid"
      ],
      "execution_count": null,
      "outputs": []
    },
    {
      "cell_type": "code",
      "metadata": {
        "id": "dB94GltHMlpQ"
      },
      "source": [
        "# The accuracy of different models on a validation set\n",
        "def valid_accuracy(X_train, y_train, X_valid, y_valid):\n",
        "  # Different hyperparamters for our model\n",
        "  hyper_params = [\n",
        "                  {},\n",
        "                  {'min_samples_leaf': 3},\n",
        "                  {'max_features': 0.5},\n",
        "                  {'max_features': 0.5, 'bootstrap': False},\n",
        "                  {'min_samples_leaf': 3, 'max_features': 0.5}\n",
        "  ]\n",
        "  # The scores of different models\n",
        "  sc = []\n",
        "  for curr_hype in hyper_params:\n",
        "    # Create a model using the current hyperparameters \n",
        "    m = RandomForestRegressor(n_jobs=-1, **curr_hype)\n",
        "    m.fit(X_train, y_train)\n",
        "    # Add the accuracy of our model on the validation set\n",
        "    sc.append(m.score(X_valid, y_valid))\n",
        "  return sc"
      ],
      "execution_count": null,
      "outputs": []
    },
    {
      "cell_type": "code",
      "metadata": {
        "id": "2HAKZswiY7nM"
      },
      "source": [
        "# To quicken things up\n",
        "set_rf_samples(50000)"
      ],
      "execution_count": null,
      "outputs": []
    },
    {
      "cell_type": "code",
      "metadata": {
        "id": "L-ecNB13TYsS"
      },
      "source": [
        "# First, we need to reset X's index\n",
        "X.reset_index(inplace=True)\n",
        "X.drop('index', axis=1, inplace=True)"
      ],
      "execution_count": null,
      "outputs": []
    },
    {
      "cell_type": "code",
      "metadata": {
        "id": "-pVrYy9jYqgE"
      },
      "source": [
        "# The different intervals for our validation set\n",
        "intervals = [\n",
        "             [2011, 5, 10, 2011, 8, 18],\n",
        "             [2011, 4, 19, 2011, 7, 29],\n",
        "             [2010, 8, 19, 2010, 12, 30]\n",
        "]\n",
        "# The test set's score\n",
        "test_score = valid_accuracy(X, y, X_test, y_test)\n",
        "# Go through every interval\n",
        "for curr_inter in intervals:\n",
        "  print(curr_inter)\n",
        "  # Extract the current validation set and find its score\n",
        "  curr_X_train, curr_y_train, curr_X_valid, curr_y_valid = split_valid_saledate(X, y, *curr_inter)\n",
        "  curr_valid_score = valid_accuracy(curr_X_train, curr_y_train, curr_X_valid, curr_y_valid)\n",
        "  print(sum(abs(np.array(curr_valid_score) - np.array(test_score)))/5)"
      ],
      "execution_count": null,
      "outputs": []
    },
    {
      "cell_type": "code",
      "metadata": {
        "id": "45Ql_fHbSYWh"
      },
      "source": [
        "X_train, y_train, X_valid, y_valid = split_valid_saledate(X, y, 2010, 8, 19, 2010, 12, 30)"
      ],
      "execution_count": null,
      "outputs": []
    },
    {
      "cell_type": "markdown",
      "metadata": {
        "id": "RoSxfzx05cO7"
      },
      "source": [
        "### Basic Hypertuning"
      ]
    },
    {
      "cell_type": "code",
      "metadata": {
        "id": "uhGmXz82mPJS"
      },
      "source": [
        "def rmse(x, y): return math.sqrt(((x-y)**2).mean())"
      ],
      "execution_count": null,
      "outputs": []
    },
    {
      "cell_type": "code",
      "metadata": {
        "id": "8hqG7EV3oZ5C"
      },
      "source": [
        "def print_score(m, x_trn, y_trn, x_vld, y_vld):\n",
        "  r = [rmse(m.predict(x_trn), y_trn), rmse(m.predict(x_vld), y_vld)]\n",
        "  print(r)"
      ],
      "execution_count": null,
      "outputs": []
    },
    {
      "cell_type": "code",
      "metadata": {
        "id": "g8YA7gHkokJl"
      },
      "source": [
        "# We're using only the last 50000 rows of our training data \n",
        "# to speed up the process of training. Using set_rf_samples(50000)\n",
        "# on the entire dataset yielded a slightly worse accuracy.\n",
        "m = RandomForestRegressor(n_jobs=-1, n_estimators=40)\n",
        "m.fit(X_train.iloc[-50000:], y_train[-50000:])\n",
        "print_score(m, X_train.iloc[-50000:], y_train[-50000:], X_valid, y_valid)"
      ],
      "execution_count": null,
      "outputs": []
    },
    {
      "cell_type": "code",
      "metadata": {
        "id": "VdaRosrHaKBl"
      },
      "source": [
        "m = RandomForestRegressor(n_jobs=-1, n_estimators=40, min_samples_leaf=3)\n",
        "m.fit(X_train.iloc[-50000:], y_train[-50000:])\n",
        "print_score(m, X_train.iloc[-50000:], y_train[-50000:], X_valid, y_valid)"
      ],
      "execution_count": null,
      "outputs": []
    },
    {
      "cell_type": "code",
      "metadata": {
        "id": "36a61mFxaNbL"
      },
      "source": [
        "m = RandomForestRegressor(n_jobs=-1, n_estimators=40, min_samples_leaf=5)\n",
        "m.fit(X_train.iloc[-50000:], y_train[-50000:])\n",
        "print_score(m, X_train.iloc[-50000:], y_train[-50000:], X_valid, y_valid)"
      ],
      "execution_count": null,
      "outputs": []
    },
    {
      "cell_type": "code",
      "metadata": {
        "id": "A14ty261cuHf"
      },
      "source": [
        "m = RandomForestRegressor(n_jobs=-1, n_estimators=40, min_samples_leaf=10)\n",
        "m.fit(X_train.iloc[-50000:], y_train[-50000:])\n",
        "print_score(m, X_train.iloc[-50000:], y_train[-50000:], X_valid, y_valid)"
      ],
      "execution_count": null,
      "outputs": []
    },
    {
      "cell_type": "code",
      "metadata": {
        "id": "QtCWeDTIeYtA"
      },
      "source": [
        "m = RandomForestRegressor(n_jobs=-1, n_estimators=40, min_samples_leaf=5, max_features=0.5)\n",
        "m.fit(X_train.iloc[-50000:], y_train[-50000:])\n",
        "print_score(m, X_train.iloc[-50000:], y_train[-50000:], X_valid, y_valid)"
      ],
      "execution_count": null,
      "outputs": []
    },
    {
      "cell_type": "code",
      "metadata": {
        "id": "WolLl0WWerLA"
      },
      "source": [
        "m = RandomForestRegressor(n_jobs=-1, n_estimators=40, min_samples_leaf=5, max_features='sqrt')\n",
        "m.fit(X_train.iloc[-50000:], y_train[-50000:])\n",
        "print_score(m, X_train.iloc[-50000:], y_train[-50000:], X_valid, y_valid)"
      ],
      "execution_count": null,
      "outputs": []
    },
    {
      "cell_type": "markdown",
      "metadata": {
        "id": "EetZ6BOieyXw"
      },
      "source": [
        "### Feature Selection"
      ]
    },
    {
      "cell_type": "code",
      "metadata": {
        "id": "ucrFHosD5jvm",
        "colab": {
          "base_uri": "https://localhost:8080/",
          "height": 34
        },
        "outputId": "40f52d08-46e5-4560-e6a5-e73cf64c7950"
      },
      "source": [
        "m = RandomForestRegressor(n_jobs=-1, n_estimators=40, min_samples_leaf=5, max_features=0.5)\n",
        "m.fit(X_train.iloc[-50000:], y_train[-50000:])\n",
        "print_score(m, X_train.iloc[-50000:], y_train[-50000:], X_valid, y_valid)"
      ],
      "execution_count": null,
      "outputs": [
        {
          "output_type": "stream",
          "text": [
            "[0.15247481569832774, 0.2338587992371092]\n"
          ],
          "name": "stdout"
        }
      ]
    },
    {
      "cell_type": "code",
      "metadata": {
        "id": "O4WLwvKfgjAl",
        "colab": {
          "base_uri": "https://localhost:8080/",
          "height": 419
        },
        "outputId": "391178f9-a6bb-417c-ac49-dd95b76b15b6"
      },
      "source": [
        "fi = rf_feat_importance(m, X_train)\n",
        "fi"
      ],
      "execution_count": null,
      "outputs": [
        {
          "output_type": "execute_result",
          "data": {
            "text/html": [
              "<div>\n",
              "<style scoped>\n",
              "    .dataframe tbody tr th:only-of-type {\n",
              "        vertical-align: middle;\n",
              "    }\n",
              "\n",
              "    .dataframe tbody tr th {\n",
              "        vertical-align: top;\n",
              "    }\n",
              "\n",
              "    .dataframe thead th {\n",
              "        text-align: right;\n",
              "    }\n",
              "</style>\n",
              "<table border=\"1\" class=\"dataframe\">\n",
              "  <thead>\n",
              "    <tr style=\"text-align: right;\">\n",
              "      <th></th>\n",
              "      <th>cols</th>\n",
              "      <th>imp</th>\n",
              "    </tr>\n",
              "  </thead>\n",
              "  <tbody>\n",
              "    <tr>\n",
              "      <th>13</th>\n",
              "      <td>ProductSize</td>\n",
              "      <td>0.233801</td>\n",
              "    </tr>\n",
              "    <tr>\n",
              "      <th>5</th>\n",
              "      <td>YearMade</td>\n",
              "      <td>0.175394</td>\n",
              "    </tr>\n",
              "    <tr>\n",
              "      <th>37</th>\n",
              "      <td>Coupler_System</td>\n",
              "      <td>0.112694</td>\n",
              "    </tr>\n",
              "    <tr>\n",
              "      <th>10</th>\n",
              "      <td>fiSecondaryDesc</td>\n",
              "      <td>0.055376</td>\n",
              "    </tr>\n",
              "    <tr>\n",
              "      <th>8</th>\n",
              "      <td>fiModelDesc</td>\n",
              "      <td>0.048609</td>\n",
              "    </tr>\n",
              "    <tr>\n",
              "      <th>...</th>\n",
              "      <td>...</td>\n",
              "      <td>...</td>\n",
              "    </tr>\n",
              "    <tr>\n",
              "      <th>59</th>\n",
              "      <td>saleIs_quarter_end</td>\n",
              "      <td>0.000033</td>\n",
              "    </tr>\n",
              "    <tr>\n",
              "      <th>58</th>\n",
              "      <td>saleIs_month_start</td>\n",
              "      <td>0.000026</td>\n",
              "    </tr>\n",
              "    <tr>\n",
              "      <th>60</th>\n",
              "      <td>saleIs_quarter_start</td>\n",
              "      <td>0.000007</td>\n",
              "    </tr>\n",
              "    <tr>\n",
              "      <th>61</th>\n",
              "      <td>saleIs_year_end</td>\n",
              "      <td>0.000000</td>\n",
              "    </tr>\n",
              "    <tr>\n",
              "      <th>62</th>\n",
              "      <td>saleIs_year_start</td>\n",
              "      <td>0.000000</td>\n",
              "    </tr>\n",
              "  </tbody>\n",
              "</table>\n",
              "<p>66 rows × 2 columns</p>\n",
              "</div>"
            ],
            "text/plain": [
              "                    cols       imp\n",
              "13           ProductSize  0.233801\n",
              "5               YearMade  0.175394\n",
              "37        Coupler_System  0.112694\n",
              "10       fiSecondaryDesc  0.055376\n",
              "8            fiModelDesc  0.048609\n",
              "..                   ...       ...\n",
              "59    saleIs_quarter_end  0.000033\n",
              "58    saleIs_month_start  0.000026\n",
              "60  saleIs_quarter_start  0.000007\n",
              "61       saleIs_year_end  0.000000\n",
              "62     saleIs_year_start  0.000000\n",
              "\n",
              "[66 rows x 2 columns]"
            ]
          },
          "metadata": {
            "tags": []
          },
          "execution_count": 24
        }
      ]
    },
    {
      "cell_type": "code",
      "metadata": {
        "id": "Jm9VVszZFwAi"
      },
      "source": [
        "def plot_feat_imp(fi):\n",
        "  fi[:10].set_index('cols').plot.barh()"
      ],
      "execution_count": null,
      "outputs": []
    },
    {
      "cell_type": "code",
      "metadata": {
        "id": "w6M2gPvdG6Yv"
      },
      "source": [
        "plot_feat_imp(fi)"
      ],
      "execution_count": null,
      "outputs": []
    },
    {
      "cell_type": "code",
      "metadata": {
        "id": "qbc-iDaLG7rY"
      },
      "source": [
        "to_keep = fi[fi.imp >= 0.001].cols\n",
        "X_keep = X[to_keep].copy()\n",
        "X_train_keep, X_valid_keep = X_train[to_keep].copy(), X_valid[to_keep].copy()"
      ],
      "execution_count": null,
      "outputs": []
    },
    {
      "cell_type": "code",
      "metadata": {
        "id": "toa7Llqwfyq0"
      },
      "source": [
        "m = RandomForestRegressor(n_jobs=-1, n_estimators=40, min_samples_leaf=5, max_features=0.6)\n",
        "m.fit(X_tarain_keep.iloc[-50000:], y_train[-50000:])\n",
        "print_score(m, X_train_keep.iloc[-50000:], y_train[-50000:], X_valid_keep, y_valid)"
      ],
      "execution_count": null,
      "outputs": []
    },
    {
      "cell_type": "code",
      "metadata": {
        "id": "1QkOf0en8sQa"
      },
      "source": [
        "from scipy.cluster import hierarchy as hc"
      ],
      "execution_count": null,
      "outputs": []
    },
    {
      "cell_type": "code",
      "metadata": {
        "id": "5mGhahR7CrVm"
      },
      "source": [
        "corr = np.round(scipy.stats.spearmanr(X_keep).correlation, 4)\n",
        "corr_condensed = hc.distance.squareform(1-corr)\n",
        "z = hc.linkage(corr_condensed, method='average')\n",
        "fig = plt.figure(figsize=(16,10))\n",
        "dendrogram = hc.dendrogram(z, labels=X_keep.columns, orientation='left', leaf_font_size=16)\n",
        "plt.show()"
      ],
      "execution_count": null,
      "outputs": []
    },
    {
      "cell_type": "code",
      "metadata": {
        "id": "Z_htjceBCubI"
      },
      "source": [
        "correlated = ['Hydraulics_Flow', 'Grouser_Tracks', 'Coupler_System', \n",
        "              'ProductGroupDesc', 'ProductGroup', 'fiBaseModel', 'fiModelDesc',\n",
        "              'Pushblock', 'Blade_Width', 'Scarifier' \n",
        "             ]\n",
        "for i in correlated:\n",
        "  m = RandomForestRegressor(n_jobs=-1, n_estimators=40, min_samples_leaf=5, max_features=0.6)\n",
        "  m.fit(X_train_keep.iloc[-50000:].drop(i, axis=1), y_train[-50000:])\n",
        "  print(i)\n",
        "  print_score(m, X_train_keep.iloc[-50000:].drop(i, axis=1), y_train[-50000:], X_valid_keep.drop(i, axis=1), y_valid)"
      ],
      "execution_count": null,
      "outputs": []
    },
    {
      "cell_type": "code",
      "metadata": {
        "id": "tK_VGHBcsKGn"
      },
      "source": [
        "to_drop = ['Grouser_Tracks', 'ProductGroupDesc', 'Scarifier', 'Pushblock']"
      ],
      "execution_count": null,
      "outputs": []
    },
    {
      "cell_type": "code",
      "metadata": {
        "id": "IM6CMgo2F2A5"
      },
      "source": [
        "m = RandomForestRegressor(n_jobs=-1, n_estimators=40, min_samples_leaf=5, max_features=0.6)\n",
        "m.fit(X_train_keep.iloc[-50000:].drop(to_drop, axis=1), y_train[-50000:])\n",
        "print_score(m, X_train_keep.iloc[-50000:].drop(to_drop, axis=1), y_train[-50000:], X_valid_keep.drop(to_drop, axis=1), y_valid)"
      ],
      "execution_count": null,
      "outputs": []
    },
    {
      "cell_type": "code",
      "metadata": {
        "id": "oVSoogWpItlt"
      },
      "source": [
        "X_keep.drop(to_drop, axis=1, inplace=True)\n",
        "X_train_keep.drop(to_drop, axis=1, inplace=True)\n",
        "X_valid_keep.drop(to_drop, axis=1, inplace=True)"
      ],
      "execution_count": null,
      "outputs": []
    },
    {
      "cell_type": "markdown",
      "metadata": {
        "id": "gfNDNSXKpymB"
      },
      "source": [
        "### Thorough Analysis of Important Features"
      ]
    },
    {
      "cell_type": "code",
      "metadata": {
        "id": "f3bbIl5wrBQC"
      },
      "source": [
        "m = RandomForestRegressor(n_jobs=-1, n_estimators=40, min_samples_leaf=5, max_features=0.6)\n",
        "m.fit(X_train_keep.iloc[-50000:], y_train[-50000:])\n",
        "print_score(m, X_train_keep.iloc[-50000:], y_train[-50000:], X_valid_keep, y_valid)"
      ],
      "execution_count": null,
      "outputs": []
    },
    {
      "cell_type": "code",
      "metadata": {
        "id": "50bRWSpHraWC"
      },
      "source": [
        "fi = rf_feat_importance(m, X_train_keep)\n",
        "fi"
      ],
      "execution_count": null,
      "outputs": []
    },
    {
      "cell_type": "code",
      "metadata": {
        "id": "f9_QjaaYrhTi"
      },
      "source": [
        "X_keep[['YearMade']].describe()"
      ],
      "execution_count": null,
      "outputs": []
    },
    {
      "cell_type": "code",
      "metadata": {
        "id": "vmZlrLoyy4db"
      },
      "source": [
        "# Replace all instances of 'YearMade' where its value is equal to 1000\n",
        "# with 1950\n",
        "X_keep.loc[X_keep['YearMade'] == 1000, 'YearMade'] = 1950\n",
        "X_train_keep.loc[X_train_keep['YearMade'] == 1000, 'YearMade'] = 1950\n",
        "X_valid_keep.loc[X_valid_keep['YearMade'] == 1000, 'YearMade'] = 1950"
      ],
      "execution_count": null,
      "outputs": []
    },
    {
      "cell_type": "code",
      "metadata": {
        "id": "RzemxWqWzi9-"
      },
      "source": [
        "m = RandomForestRegressor(n_jobs=-1, n_estimators=40, min_samples_leaf=5, max_features=0.6)\n",
        "m.fit(X_train_keep.iloc[-50000:], y_train[-50000:])\n",
        "print_score(m, X_train_keep.iloc[-50000:], y_train[-50000:], X_valid_keep, y_valid)"
      ],
      "execution_count": null,
      "outputs": []
    },
    {
      "cell_type": "code",
      "metadata": {
        "id": "bSzzCR1UsbSf"
      },
      "source": [
        "X_keep['age'] = X['saleYear']-X['YearMade']\n",
        "X_train_keep['age'] = X_train['saleYear']-X_train['YearMade']\n",
        "X_valid_keep['age'] = X_valid['saleYear']-X_valid['YearMade']"
      ],
      "execution_count": null,
      "outputs": []
    },
    {
      "cell_type": "code",
      "metadata": {
        "id": "uJwquDjjsnkn"
      },
      "source": [
        "m = RandomForestRegressor(n_jobs=-1, n_estimators=40, min_samples_leaf=5, max_features=0.6)\n",
        "m.fit(X_train_keep.iloc[-50000:], y_train[-50000:])\n",
        "print_score(m, X_train_keep.iloc[-50000:], y_train[-50000:], X_valid_keep, y_valid)"
      ],
      "execution_count": null,
      "outputs": []
    },
    {
      "cell_type": "code",
      "metadata": {
        "id": "M_R5T-cIs4gA"
      },
      "source": [
        "X_keep.drop('age', axis=1, inplace=True)\n",
        "X_train_keep.drop('age', axis=1, inplace=True)\n",
        "X_valid_keep.drop('age', axis=1, inplace=True)"
      ],
      "execution_count": null,
      "outputs": []
    },
    {
      "cell_type": "code",
      "metadata": {
        "id": "0OVV6Ix-zU9E"
      },
      "source": [
        "X_keep['Coupler_System'].value_counts()"
      ],
      "execution_count": null,
      "outputs": []
    },
    {
      "cell_type": "code",
      "metadata": {
        "id": "JJKkXmOwOocV"
      },
      "source": [
        "X_keep['Coupler_System'].value_counts().plot(kind='bar')"
      ],
      "execution_count": null,
      "outputs": []
    },
    {
      "cell_type": "code",
      "metadata": {
        "id": "xssIXGQ4OolP"
      },
      "source": [
        "one_hot_coupler_sys_trn = pd.get_dummies(X_train_keep['Coupler_System'], prefix='Coup_Sys_is')\n",
        "one_hot_coupler_sys_vld = pd.get_dummies(X_valid_keep['Coupler_System'], prefix='Coup_Sys_is')\n",
        "one_hot_coupler_sys_trn.head()"
      ],
      "execution_count": null,
      "outputs": []
    },
    {
      "cell_type": "code",
      "metadata": {
        "id": "7fq8pzB5S8is"
      },
      "source": [
        "# x_trn and x_vld are copies of X_train_keep and\n",
        "# X_valid_keep respectively so if something we \n",
        "# did caused our accuracy to decrease, we'd \n",
        "# still have our original dataset\n",
        "x_trn, x_vld = X_train_keep.copy(), X_valid_keep.copy()\n",
        "x_trn.drop('Coupler_System', axis=1, inplace=True)\n",
        "x_vld.drop('Coupler_System', axis=1, inplace=True)\n",
        "x_trn = x_trn.join(one_hot_coupler_sys_trn)\n",
        "x_vld = x_vld.join(one_hot_coupler_sys_vld)"
      ],
      "execution_count": null,
      "outputs": []
    },
    {
      "cell_type": "code",
      "metadata": {
        "id": "IrnlUrD3VJ-3"
      },
      "source": [
        "m = RandomForestRegressor(n_jobs=-1, n_estimators=40, min_samples_leaf=5, max_features=0.6)\n",
        "m.fit(x_trn.iloc[-50000:], y_train[-50000:])\n",
        "print_score(m, x_trn.iloc[-50000:], y_train[-50000:], x_vld, y_valid)"
      ],
      "execution_count": null,
      "outputs": []
    },
    {
      "cell_type": "code",
      "metadata": {
        "id": "yJFzm5vzfvuB"
      },
      "source": [
        "X_keep['ProductSize'].value_counts()"
      ],
      "execution_count": null,
      "outputs": []
    },
    {
      "cell_type": "code",
      "metadata": {
        "id": "cWB_MkSA6v2x"
      },
      "source": [
        "X_keep['ProductSize'].value_counts().plot(kind='bar')"
      ],
      "execution_count": null,
      "outputs": []
    },
    {
      "cell_type": "code",
      "metadata": {
        "id": "JkxzLf5NMgAu"
      },
      "source": [
        "X_keep['Enclosure'].value_counts()"
      ],
      "execution_count": null,
      "outputs": []
    },
    {
      "cell_type": "code",
      "metadata": {
        "id": "KSLsqo7ANO_D"
      },
      "source": [
        "X_keep['Enclosure'].value_counts().plot(kind='bar')"
      ],
      "execution_count": null,
      "outputs": []
    },
    {
      "cell_type": "code",
      "metadata": {
        "id": "y-jfSwTREd07"
      },
      "source": [
        "df_raw['Enclosure'].cat.categories"
      ],
      "execution_count": null,
      "outputs": []
    },
    {
      "cell_type": "code",
      "metadata": {
        "id": "QMA6H-9-NpVg"
      },
      "source": [
        "X_keep['fiProductClassDesc'].value_counts()"
      ],
      "execution_count": null,
      "outputs": []
    },
    {
      "cell_type": "code",
      "metadata": {
        "id": "TEvW114Lpy6X"
      },
      "source": [
        "df_raw['fiProductClassDesc'].value_counts()"
      ],
      "execution_count": null,
      "outputs": []
    },
    {
      "cell_type": "markdown",
      "metadata": {
        "id": "Eqb0d6QLqyc7"
      },
      "source": [
        "### Extrapolation"
      ]
    },
    {
      "cell_type": "code",
      "metadata": {
        "id": "w96VZa4zjXJD"
      },
      "source": [
        "# If y_ext[i] is 0, the X_keep[i] is in the training set\n",
        "y_ext = np.ones(len(X_keep))\n",
        "y_ext[:len(X_train_keep)] = 0"
      ],
      "execution_count": null,
      "outputs": []
    },
    {
      "cell_type": "code",
      "metadata": {
        "id": "-aifmhhlmkPO"
      },
      "source": [
        "m = RandomForestClassifier(n_jobs=-1, n_estimators=40, min_samples_leaf=5, max_features=0.6,\n",
        "                           oob_score=True)\n",
        "m.fit(X_keep, y_ext)\n",
        "m.oob_score_"
      ],
      "execution_count": null,
      "outputs": []
    },
    {
      "cell_type": "code",
      "metadata": {
        "id": "h8TMIYDAmw26"
      },
      "source": [
        "fi = rf_feat_importance(m, X_keep)\n",
        "fi.head(3)"
      ],
      "execution_count": null,
      "outputs": []
    },
    {
      "cell_type": "code",
      "metadata": {
        "id": "BkB6MrBqnVDl"
      },
      "source": [
        "to_drop = ['saleElapsed', 'SalesID', 'MachineID']"
      ],
      "execution_count": null,
      "outputs": []
    },
    {
      "cell_type": "code",
      "metadata": {
        "id": "SifbodmWo0PI"
      },
      "source": [
        "# See how removing each feature affects our model\n",
        "for f in to_drop:\n",
        "  m = RandomForestRegressor(n_jobs=-1, n_estimators=40, min_samples_leaf=5, max_features=0.6)\n",
        "  m.fit(X_train_keep.drop(f, axis=1).iloc[-50000:], y_train[-50000:])\n",
        "  print_score(m, X_train_keep.drop(f, axis=1).iloc[-50000:], y_train[-50000:], \n",
        "              X_valid_keep.drop(f, axis=1), y_valid)"
      ],
      "execution_count": null,
      "outputs": []
    },
    {
      "cell_type": "code",
      "metadata": {
        "id": "8VPzvI2rzmbN"
      },
      "source": [
        "to_drop = ['SalesID', 'MachineID']"
      ],
      "execution_count": null,
      "outputs": []
    },
    {
      "cell_type": "code",
      "metadata": {
        "id": "NsTSRZLspGb_"
      },
      "source": [
        "X_keep.drop(to_drop, axis=1, inplace=True)\n",
        "X_train_keep.drop(to_drop, axis=1, inplace=True)\n",
        "X_valid_keep.drop(to_drop, axis=1, inplace=True)"
      ],
      "execution_count": null,
      "outputs": []
    },
    {
      "cell_type": "code",
      "metadata": {
        "id": "HpcQmgdnzul3"
      },
      "source": [
        "m = RandomForestRegressor(n_jobs=-1, n_estimators=40, min_samples_leaf=5, max_features=0.6)\n",
        "m.fit(X_train_keep.iloc[-50000:], y_train[-50000:])\n",
        "print_score(m, X_train_keep.iloc[-50000:], y_train[-50000:], \n",
        "            X_valid_keep, y_valid)"
      ],
      "execution_count": null,
      "outputs": []
    },
    {
      "cell_type": "markdown",
      "metadata": {
        "id": "DWZz3DqQrQ_2"
      },
      "source": [
        "### Final Model"
      ]
    },
    {
      "cell_type": "code",
      "metadata": {
        "id": "fZiqV0zurT5b"
      },
      "source": [
        "reset_rf_samples()"
      ],
      "execution_count": null,
      "outputs": []
    },
    {
      "cell_type": "code",
      "metadata": {
        "id": "mH8GJk1d0Xxc"
      },
      "source": [
        "m = RandomForestRegressor(n_jobs=-1, n_estimators=100, min_samples_leaf=3, max_features=0.6)\n",
        "m.fit(X_train_keep.iloc[-100000:], y_train[-100000:])\n",
        "print_score(m, X_train_keep.iloc[-100000:], y_train[-100000:], X_valid_keep., y_valid)"
      ],
      "execution_count": null,
      "outputs": []
    },
    {
      "cell_type": "code",
      "metadata": {
        "id": "nGRa1TLTrv6j"
      },
      "source": [
        "X_test = X_test[X_keep.columns]"
      ],
      "execution_count": null,
      "outputs": []
    },
    {
      "cell_type": "code",
      "metadata": {
        "id": "Vx8AqxsyvFwY"
      },
      "source": [
        "m = RandomForestRegressor(n_jobs=-1, n_estimators=160, min_samples_leaf=3, max_features=0.6)\n",
        "m.fit(X_keep, y)\n",
        "print_score(m, X_keep, y, X_test, y_test)"
      ],
      "execution_count": null,
      "outputs": []
    },
    {
      "cell_type": "markdown",
      "metadata": {
        "id": "rMPoi7urcABG"
      },
      "source": [
        "### XGBoost (optional)"
      ]
    },
    {
      "cell_type": "code",
      "metadata": {
        "id": "hmCCE6yucEBX"
      },
      "source": [
        "!pip install xgboost"
      ],
      "execution_count": null,
      "outputs": []
    },
    {
      "cell_type": "code",
      "metadata": {
        "id": "D1GQATaTcMYl"
      },
      "source": [
        "from xgboost import XGBRegressor"
      ],
      "execution_count": null,
      "outputs": []
    },
    {
      "cell_type": "code",
      "metadata": {
        "id": "2b-8INoDcGV3",
        "colab": {
          "base_uri": "https://localhost:8080/",
          "height": 51
        },
        "outputId": "ad3554d6-15c8-4274-8273-9fb8671fef14"
      },
      "source": [
        "m = XGBRegressor(n_jobs=-1, n_estimators=400)\n",
        "m.fit(X_train_keep.iloc[-50000:], y_train[-50000:])\n",
        "print_score(m, X_train_keep.iloc[-50000:], y_train[-50000:], \n",
        "            X_valid_keep, y_valid)"
      ],
      "execution_count": null,
      "outputs": [
        {
          "output_type": "stream",
          "text": [
            "[12:56:22] WARNING: /workspace/src/objective/regression_obj.cu:152: reg:linear is now deprecated in favor of reg:squarederror.\n",
            "[0.24387817164103584, 0.24787442898203998]\n"
          ],
          "name": "stdout"
        }
      ]
    },
    {
      "cell_type": "code",
      "metadata": {
        "id": "oqhu7-GYcYpG",
        "colab": {
          "base_uri": "https://localhost:8080/",
          "height": 51
        },
        "outputId": "3abcab17-7fc9-4865-c972-c0fb824e5d2c"
      },
      "source": [
        "m = XGBRegressor(n_jobs=-1, n_estimators=400, max_depth=4)\n",
        "m.fit(X_train_keep.iloc[-50000:], y_train[-50000:])\n",
        "print_score(m, X_train_keep.iloc[-50000:], y_train[-50000:], \n",
        "            X_valid_keep, y_valid)"
      ],
      "execution_count": null,
      "outputs": [
        {
          "output_type": "stream",
          "text": [
            "[23:11:47] WARNING: /workspace/src/objective/regression_obj.cu:152: reg:linear is now deprecated in favor of reg:squarederror.\n",
            "[0.2187821556894904, 0.23327781729938218]\n"
          ],
          "name": "stdout"
        }
      ]
    },
    {
      "cell_type": "code",
      "metadata": {
        "id": "WlbidjAGdHb4",
        "colab": {
          "base_uri": "https://localhost:8080/",
          "height": 51
        },
        "outputId": "455c467f-9809-4a9c-e92f-eaf0cea654fb"
      },
      "source": [
        "m = XGBRegressor(n_jobs=-1, n_estimators=400, max_depth=5)\n",
        "m.fit(X_train_keep.iloc[-50000:], y_train[-50000:])\n",
        "print_score(m, X_train_keep.iloc[-50000:], y_train[-50000:], \n",
        "            X_valid_keep, y_valid)"
      ],
      "execution_count": null,
      "outputs": [
        {
          "output_type": "stream",
          "text": [
            "[23:13:51] WARNING: /workspace/src/objective/regression_obj.cu:152: reg:linear is now deprecated in favor of reg:squarederror.\n",
            "[0.198054141118267, 0.22814543918471594]\n"
          ],
          "name": "stdout"
        }
      ]
    },
    {
      "cell_type": "code",
      "metadata": {
        "id": "Oj3P_KBPdlmE",
        "colab": {
          "base_uri": "https://localhost:8080/",
          "height": 51
        },
        "outputId": "d0e216ec-ebad-4835-b2c0-eed20b848fe8"
      },
      "source": [
        "m = XGBRegressor(n_jobs=-1, n_estimators=400, max_depth=6)\n",
        "m.fit(X_train_keep.iloc[-50000:], y_train[-50000:])\n",
        "print_score(m, X_train_keep.iloc[-50000:], y_train[-50000:], \n",
        "            X_valid_keep, y_valid)"
      ],
      "execution_count": null,
      "outputs": [
        {
          "output_type": "stream",
          "text": [
            "[23:14:40] WARNING: /workspace/src/objective/regression_obj.cu:152: reg:linear is now deprecated in favor of reg:squarederror.\n",
            "[0.17614614409158405, 0.22391425919166275]\n"
          ],
          "name": "stdout"
        }
      ]
    },
    {
      "cell_type": "code",
      "metadata": {
        "id": "Kw-zbxGidxhP",
        "colab": {
          "base_uri": "https://localhost:8080/",
          "height": 51
        },
        "outputId": "1c07edad-a25a-4fa2-bae7-d79b6654ebae"
      },
      "source": [
        "m = XGBRegressor(n_jobs=-1, n_estimators=400, max_depth=7)\n",
        "m.fit(X_train_keep.iloc[-50000:], y_train[-50000:])\n",
        "print_score(m, X_train_keep.iloc[-50000:], y_train[-50000:], \n",
        "            X_valid_keep, y_valid)"
      ],
      "execution_count": null,
      "outputs": [
        {
          "output_type": "stream",
          "text": [
            "[23:15:29] WARNING: /workspace/src/objective/regression_obj.cu:152: reg:linear is now deprecated in favor of reg:squarederror.\n",
            "[0.15277599041142365, 0.22488769807601508]\n"
          ],
          "name": "stdout"
        }
      ]
    },
    {
      "cell_type": "code",
      "metadata": {
        "id": "P6-_dllyeR3z",
        "colab": {
          "base_uri": "https://localhost:8080/",
          "height": 51
        },
        "outputId": "cd4a8d8b-c335-43e0-ee13-4ec7102f45d2"
      },
      "source": [
        "m = XGBRegressor(n_jobs=-1, n_estimators=400, max_depth=6, learning_rate=0.01)\n",
        "m.fit(X_train_keep.iloc[-50000:], y_train[-50000:])\n",
        "print_score(m, X_train_keep.iloc[-50000:], y_train[-50000:], \n",
        "            X_valid_keep, y_valid)"
      ],
      "execution_count": null,
      "outputs": [
        {
          "output_type": "stream",
          "text": [
            "[13:05:25] WARNING: /workspace/src/objective/regression_obj.cu:152: reg:linear is now deprecated in favor of reg:squarederror.\n",
            "[0.31153897565259187, 0.3277399340701414]\n"
          ],
          "name": "stdout"
        }
      ]
    },
    {
      "cell_type": "code",
      "metadata": {
        "id": "eI4syPj-eoYL",
        "colab": {
          "base_uri": "https://localhost:8080/",
          "height": 51
        },
        "outputId": "3fbebcbd-b648-4095-dd5d-7273d866438b"
      },
      "source": [
        "m = XGBRegressor(n_jobs=-1, n_estimators=400, max_depth=6, learning_rate=0.03)\n",
        "m.fit(X_train_keep.iloc[-50000:], y_train[-50000:])\n",
        "print_score(m, X_train_keep.iloc[-50000:], y_train[-50000:], \n",
        "            X_valid_keep, y_valid)"
      ],
      "execution_count": null,
      "outputs": [
        {
          "output_type": "stream",
          "text": [
            "[23:19:24] WARNING: /workspace/src/objective/regression_obj.cu:152: reg:linear is now deprecated in favor of reg:squarederror.\n",
            "[0.2194946513480657, 0.2380608398396556]\n"
          ],
          "name": "stdout"
        }
      ]
    },
    {
      "cell_type": "code",
      "metadata": {
        "id": "WFhMmKelltoA",
        "colab": {
          "base_uri": "https://localhost:8080/",
          "height": 51
        },
        "outputId": "7daa6cf8-a433-49a3-d7d6-fff543a933ed"
      },
      "source": [
        "# We've already done learning_rate=0.1 \n",
        "m = XGBRegressor(n_jobs=-1, n_estimators=400, max_depth=6, learning_rate=0.3)\n",
        "m.fit(X_train_keep.iloc[-50000:], y_train[-50000:])\n",
        "print_score(m, X_train_keep.iloc[-50000:], y_train[-50000:], \n",
        "            X_valid_keep, y_valid)"
      ],
      "execution_count": null,
      "outputs": [
        {
          "output_type": "stream",
          "text": [
            "[13:07:26] WARNING: /workspace/src/objective/regression_obj.cu:152: reg:linear is now deprecated in favor of reg:squarederror.\n",
            "[0.13076675980422292, 0.24103057058707475]\n"
          ],
          "name": "stdout"
        }
      ]
    },
    {
      "cell_type": "code",
      "metadata": {
        "id": "daCE9NHpe3LX",
        "colab": {
          "base_uri": "https://localhost:8080/",
          "height": 51
        },
        "outputId": "bc0ceb6a-aeb8-4a32-99b9-d9f7b5765e43"
      },
      "source": [
        "m = XGBRegressor(n_jobs=-1, n_estimators=400, max_depth=6, colsample_bytree=0.5)\n",
        "m.fit(X_train_keep.iloc[-50000:], y_train[-50000:])\n",
        "print_score(m, X_train_keep.iloc[-50000:], y_train[-50000:], \n",
        "            X_valid_keep, y_valid)"
      ],
      "execution_count": null,
      "outputs": [
        {
          "output_type": "stream",
          "text": [
            "[23:20:38] WARNING: /workspace/src/objective/regression_obj.cu:152: reg:linear is now deprecated in favor of reg:squarederror.\n",
            "[0.17825130301917053, 0.22234699135557273]\n"
          ],
          "name": "stdout"
        }
      ]
    },
    {
      "cell_type": "code",
      "metadata": {
        "id": "OCuquJMSfJGu",
        "colab": {
          "base_uri": "https://localhost:8080/",
          "height": 51
        },
        "outputId": "54006999-e62c-424b-f4d8-83de1a99f760"
      },
      "source": [
        "m = XGBRegressor(n_jobs=-1, n_estimators=400, max_depth=6, colsample_bytree=int(X_keep.shape[1]**0.5)/X_keep.shape[1])\n",
        "m.fit(X_train_keep.iloc[-50000:], y_train[-50000:])\n",
        "print_score(m, X_train_keep.iloc[-50000:], y_train[-50000:], \n",
        "            X_valid_keep, y_valid)"
      ],
      "execution_count": null,
      "outputs": [
        {
          "output_type": "stream",
          "text": [
            "[23:21:48] WARNING: /workspace/src/objective/regression_obj.cu:152: reg:linear is now deprecated in favor of reg:squarederror.\n",
            "[0.19238450368917345, 0.22521114084710347]\n"
          ],
          "name": "stdout"
        }
      ]
    },
    {
      "cell_type": "markdown",
      "metadata": {
        "id": "PmD5jshJiwrL"
      },
      "source": [
        "### Extra Trees (optional)"
      ]
    },
    {
      "cell_type": "code",
      "metadata": {
        "id": "rNXcl11VDkE_"
      },
      "source": [
        "from sklearn.ensemble import ExtraTreesRegressor"
      ],
      "execution_count": null,
      "outputs": []
    },
    {
      "cell_type": "code",
      "metadata": {
        "id": "He8i5hnjDmpm",
        "colab": {
          "base_uri": "https://localhost:8080/",
          "height": 34
        },
        "outputId": "f2d0f91b-c0c2-40f1-b535-c7fcdeec5c21"
      },
      "source": [
        "m = ExtraTreesRegressor(n_jobs=-1, n_estimators=40)\n",
        "m.fit(X_train_keep.iloc[-50000:], y_train[-50000:])\n",
        "print_score(m, X_train_keep.iloc[-50000:], y_train[-50000:], \n",
        "            X_valid_keep, y_valid)"
      ],
      "execution_count": null,
      "outputs": [
        {
          "output_type": "stream",
          "text": [
            "[0.02283931776591394, 0.23636459052640532]\n"
          ],
          "name": "stdout"
        }
      ]
    },
    {
      "cell_type": "code",
      "metadata": {
        "id": "jSCiQGAqEI7S",
        "colab": {
          "base_uri": "https://localhost:8080/",
          "height": 34
        },
        "outputId": "f898fe94-78cd-4b91-b40b-2159e18ec2b8"
      },
      "source": [
        "m = ExtraTreesRegressor(n_jobs=-1, n_estimators=40, min_samples_leaf=3)\n",
        "m.fit(X_train_keep.iloc[-50000:], y_train[-50000:])\n",
        "print_score(m, X_train_keep.iloc[-50000:], y_train[-50000:], \n",
        "            X_valid_keep, y_valid)"
      ],
      "execution_count": null,
      "outputs": [
        {
          "output_type": "stream",
          "text": [
            "[0.10365802314498147, 0.23309803681034955]\n"
          ],
          "name": "stdout"
        }
      ]
    },
    {
      "cell_type": "code",
      "metadata": {
        "id": "5WwMlMgkEN5s",
        "colab": {
          "base_uri": "https://localhost:8080/",
          "height": 34
        },
        "outputId": "c080e798-87f7-46a0-cf98-79b5b6af9ea0"
      },
      "source": [
        "m = ExtraTreesRegressor(n_jobs=-1, n_estimators=40, min_samples_leaf=5)\n",
        "m.fit(X_train_keep.iloc[-50000:], y_train[-50000:])\n",
        "print_score(m, X_train_keep.iloc[-50000:], y_train[-50000:], \n",
        "            X_valid_keep, y_valid)"
      ],
      "execution_count": null,
      "outputs": [
        {
          "output_type": "stream",
          "text": [
            "[0.14800774729137847, 0.23494679983383124]\n"
          ],
          "name": "stdout"
        }
      ]
    },
    {
      "cell_type": "markdown",
      "metadata": {
        "id": "j5dEJPJkEyl0"
      },
      "source": [
        "### Ensemble (optional)"
      ]
    },
    {
      "cell_type": "code",
      "metadata": {
        "id": "y5DqjTtmE3fL"
      },
      "source": [
        "rf = RandomForestRegressor(n_jobs=-1, n_estimators=40, min_samples_leaf=5, max_features=0.6)\n",
        "rf.fit(X_train_keep.iloc[-50000:], y_train[-50000:])"
      ],
      "execution_count": null,
      "outputs": []
    },
    {
      "cell_type": "code",
      "metadata": {
        "id": "cnp1f44EE_Xa"
      },
      "source": [
        "xg = XGBRegressor(n_jobs=-1, n_estimators=400, max_depth=6, colsample_bytree=0.5)\n",
        "xg.fit(X_train_keep.iloc[-50000:], y_train[-50000:])"
      ],
      "execution_count": null,
      "outputs": []
    },
    {
      "cell_type": "code",
      "metadata": {
        "id": "L2KVcf2vFGft"
      },
      "source": [
        "xtra = ExtraTreesRegressor(n_jobs=-1, n_estimators=40, min_samples_leaf=3)\n",
        "xtra.fit(X_train_keep.iloc[-50000:], y_train[-50000:])"
      ],
      "execution_count": null,
      "outputs": []
    },
    {
      "cell_type": "code",
      "metadata": {
        "id": "Dmir2B2BFMdf"
      },
      "source": [
        "class EnsModel:\n",
        "  def __init__(self, models, weights=None):\n",
        "    self.n = len(models)\n",
        "    self.models = models\n",
        "    self.weights = weights\n",
        "    # If weights is empty, we'll simply use the arithmetic mean\n",
        "    if self.weights is None: self.weights = [(1/self.n)]*self.n\n",
        "\n",
        "  def predict(self, x):\n",
        "    pred = self.weights[0]*self.models[0].predict(x)\n",
        "    # Calculate the weighted average\n",
        "    for i in range(1, self.n): pred += self.weights[i]*self.models[i].predict(x)\n",
        "    return pred"
      ],
      "execution_count": null,
      "outputs": []
    },
    {
      "cell_type": "code",
      "metadata": {
        "id": "UgxazDy_Gza2",
        "colab": {
          "base_uri": "https://localhost:8080/",
          "height": 34
        },
        "outputId": "1eb85b99-74d8-4ca1-e1e0-cf675516ed7c"
      },
      "source": [
        "green = EnsModel([xtra, rf], [0.1, 0.9])\n",
        "print_score(green, X_train_keep.iloc[-50000:], y_train[-50000:], \n",
        "            X_valid_keep, y_valid)"
      ],
      "execution_count": null,
      "outputs": [
        {
          "output_type": "stream",
          "text": [
            "[0.14779657489244005, 0.231232724332311]\n"
          ],
          "name": "stdout"
        }
      ]
    },
    {
      "cell_type": "code",
      "metadata": {
        "id": "t-lbW1KOG7aG",
        "colab": {
          "base_uri": "https://localhost:8080/",
          "height": 34
        },
        "outputId": "b97be215-7004-4079-90dd-3fd45205a12a"
      },
      "source": [
        "green = EnsModel([xtra, rf], [0.3, 0.7])\n",
        "print_score(green, X_train_keep.iloc[-50000:], y_train[-50000:], \n",
        "            X_valid_keep, y_valid)"
      ],
      "execution_count": null,
      "outputs": [
        {
          "output_type": "stream",
          "text": [
            "[0.13640606670371266, 0.22989098025645316]\n"
          ],
          "name": "stdout"
        }
      ]
    },
    {
      "cell_type": "code",
      "metadata": {
        "id": "bN6V8o1TG9OV",
        "colab": {
          "base_uri": "https://localhost:8080/",
          "height": 34
        },
        "outputId": "fca45653-a66d-434e-e705-a2ab44330dfa"
      },
      "source": [
        "green = EnsModel([xtra, rf], [0.5, 0.5])\n",
        "print_score(green, X_train_keep.iloc[-50000:], y_train[-50000:], \n",
        "            X_valid_keep, y_valid)"
      ],
      "execution_count": null,
      "outputs": [
        {
          "output_type": "stream",
          "text": [
            "[0.12573981332874673, 0.2295554451824303]\n"
          ],
          "name": "stdout"
        }
      ]
    },
    {
      "cell_type": "code",
      "metadata": {
        "id": "CGZ2EYgeG_I3",
        "colab": {
          "base_uri": "https://localhost:8080/",
          "height": 34
        },
        "outputId": "07d6a097-4bec-412b-cf39-14e53052b45e"
      },
      "source": [
        "green = EnsModel([xtra, rf], [0.7, 0.3])\n",
        "print_score(green, X_train_keep.iloc[-50000:], y_train[-50000:], \n",
        "            X_valid_keep, y_valid)"
      ],
      "execution_count": null,
      "outputs": [
        {
          "output_type": "stream",
          "text": [
            "[0.11599777763840023, 0.23023051846146536]\n"
          ],
          "name": "stdout"
        }
      ]
    },
    {
      "cell_type": "code",
      "metadata": {
        "id": "5TCfKra2HDSU",
        "colab": {
          "base_uri": "https://localhost:8080/",
          "height": 34
        },
        "outputId": "a7b55ad2-dbcc-4d7b-a943-7aaddeea168e"
      },
      "source": [
        "green = EnsModel([xtra, rf], [0.5, 0.5])\n",
        "m = EnsModel([green, xg], [0.1, 0.9])\n",
        "print_score(m, X_train_keep.iloc[-50000:], y_train[-50000:], \n",
        "            X_valid_keep, y_valid)"
      ],
      "execution_count": null,
      "outputs": [
        {
          "output_type": "stream",
          "text": [
            "[0.17088884534584686, 0.22010198742097675]\n"
          ],
          "name": "stdout"
        }
      ]
    },
    {
      "cell_type": "code",
      "metadata": {
        "id": "mwJLqI1IHJrD",
        "colab": {
          "base_uri": "https://localhost:8080/",
          "height": 34
        },
        "outputId": "d119d8b1-9644-4ccc-a692-171d5bf70161"
      },
      "source": [
        "m = EnsModel([green, xg], [0.3, 0.7])\n",
        "print_score(m, X_train_keep.iloc[-50000:], y_train[-50000:], \n",
        "            X_valid_keep, y_valid)"
      ],
      "execution_count": null,
      "outputs": [
        {
          "output_type": "stream",
          "text": [
            "[0.158211349214013, 0.21918565560178502]\n"
          ],
          "name": "stdout"
        }
      ]
    },
    {
      "cell_type": "code",
      "metadata": {
        "id": "sWIRWM3pHM4c",
        "colab": {
          "base_uri": "https://localhost:8080/",
          "height": 34
        },
        "outputId": "f6b86935-fac6-4e04-99ac-9a31eeb8795b"
      },
      "source": [
        "m = EnsModel([green, xg], [0.5, 0.5])\n",
        "print_score(m, X_train_keep.iloc[-50000:], y_train[-50000:], \n",
        "            X_valid_keep, y_valid)"
      ],
      "execution_count": null,
      "outputs": [
        {
          "output_type": "stream",
          "text": [
            "[0.14677235714641265, 0.22002187084892433]\n"
          ],
          "name": "stdout"
        }
      ]
    },
    {
      "cell_type": "code",
      "metadata": {
        "id": "golPcvuUIOHd"
      },
      "source": [
        "rf = RandomForestRegressor(n_jobs=-1, n_estimators=160, min_samples_leaf=5, max_features=0.6)\n",
        "rf.fit(X_keep, y)"
      ],
      "execution_count": null,
      "outputs": []
    },
    {
      "cell_type": "code",
      "metadata": {
        "id": "YzFtRqrGIc7-"
      },
      "source": [
        "xg = XGBRegressor(n_jobs=-1, n_estimators=1600, max_depth=6, colsample_bytree=0.5)\n",
        "xg.fit(X_keep, y)"
      ],
      "execution_count": null,
      "outputs": []
    },
    {
      "cell_type": "code",
      "metadata": {
        "id": "4EgdTb0CIfnZ"
      },
      "source": [
        "xtra = ExtraTreesRegressor(n_jobs=-1, n_estimators=160, min_samples_leaf=3)\n",
        "xtra.fit(X_keep, y)"
      ],
      "execution_count": null,
      "outputs": []
    },
    {
      "cell_type": "code",
      "metadata": {
        "id": "kpGRdmVcImDf"
      },
      "source": [
        "green = EnsModel([xtra, rf], [0.5, 0.5])\n",
        "m = EnsModel([green, xg], [0.3, 0.7])\n",
        "print_score(m, X_keep.iloc[-100000:], y[-100000:], X_test, y_test)"
      ],
      "execution_count": null,
      "outputs": []
    },
    {
      "cell_type": "markdown",
      "metadata": {
        "id": "nO1ehu0q7r1J"
      },
      "source": [
        "### Neural Net"
      ]
    },
    {
      "cell_type": "code",
      "metadata": {
        "id": "7FmGOyCtcL7C"
      },
      "source": [
        "!pip install fastai>=1.0.0"
      ],
      "execution_count": null,
      "outputs": []
    },
    {
      "cell_type": "code",
      "metadata": {
        "id": "bWIE6n_DdOO9"
      },
      "source": [
        "from fastai.tabular import *"
      ],
      "execution_count": null,
      "outputs": []
    },
    {
      "cell_type": "code",
      "metadata": {
        "id": "YGRUhis2OX_6"
      },
      "source": [
        "df_raw = pd.read_csv('Train.csv', low_memory=False, parse_dates=['saledate'])\n",
        "df_raw.sort_values('saledate', inplace=True)\n",
        "df_raw['SalePrice'] = np.log(df_raw['SalePrice'])\n",
        "add_datepart(df_raw, 'saledate')\n",
        "df_train = df_raw.iloc[:-12000].copy()"
      ],
      "execution_count": null,
      "outputs": []
    },
    {
      "cell_type": "code",
      "metadata": {
        "id": "aVuX-AOsYB72"
      },
      "source": [
        "cols = ['Undercarriage_Pad_Width', 'Stick_Length', 'YearMade', 'saleYear', 'saleMonth',\n",
        "                'saleWeek', 'saleDay', 'saleDayofweek',\n",
        "                'saleDayofyear']\n",
        "df_train_cols, df_raw_cols = df_train[cols].copy(), df_raw[cols].copy()"
      ],
      "execution_count": null,
      "outputs": []
    },
    {
      "cell_type": "code",
      "metadata": {
        "id": "iYL_wnJjY3w4",
        "colab": {
          "base_uri": "https://localhost:8080/",
          "height": 187
        },
        "outputId": "bb7e0b22-989c-4f18-992b-97b9ae426de2"
      },
      "source": [
        "df_train_cols.nunique()"
      ],
      "execution_count": null,
      "outputs": [
        {
          "output_type": "execute_result",
          "data": {
            "text/plain": [
              "Undercarriage_Pad_Width     19\n",
              "Stick_Length                29\n",
              "YearMade                    71\n",
              "saleYear                    23\n",
              "saleMonth                   12\n",
              "saleWeek                    53\n",
              "saleDay                     31\n",
              "saleDayofweek                7\n",
              "saleDayofyear              360\n",
              "dtype: int64"
            ]
          },
          "metadata": {
            "tags": []
          },
          "execution_count": 9
        }
      ]
    },
    {
      "cell_type": "code",
      "metadata": {
        "id": "dFbiJ2A9Y6tp",
        "colab": {
          "base_uri": "https://localhost:8080/",
          "height": 187
        },
        "outputId": "34e8deb7-3454-4789-b3bd-b3a9f44b171e"
      },
      "source": [
        "df_raw_cols.nunique()"
      ],
      "execution_count": null,
      "outputs": [
        {
          "output_type": "execute_result",
          "data": {
            "text/plain": [
              "Undercarriage_Pad_Width     19\n",
              "Stick_Length                29\n",
              "YearMade                    72\n",
              "saleYear                    23\n",
              "saleMonth                   12\n",
              "saleWeek                    53\n",
              "saleDay                     31\n",
              "saleDayofweek                7\n",
              "saleDayofyear              360\n",
              "dtype: int64"
            ]
          },
          "metadata": {
            "tags": []
          },
          "execution_count": 10
        }
      ]
    },
    {
      "cell_type": "code",
      "metadata": {
        "id": "JmMiVve1i0wY"
      },
      "source": [
        "dep_var = 'SalePrice'\n",
        "cat_vars = list(set(df_raw.columns)-set(['SalePrice',\n",
        "                                     'SalesID',\n",
        "                                     'MachineHoursCurrentMeter',\n",
        "                                     'saleElapsed']))\n",
        "cont_vars = ['MachineHoursCurrentMeter', 'saleElapsed']"
      ],
      "execution_count": null,
      "outputs": []
    },
    {
      "cell_type": "code",
      "metadata": {
        "id": "wleEr94t_25n"
      },
      "source": [
        "# Sample data for hyperparameter tuning\n",
        "n_sample = 100000\n",
        "small_train = df_train.iloc[-n_sample:]"
      ],
      "execution_count": null,
      "outputs": []
    },
    {
      "cell_type": "code",
      "metadata": {
        "id": "b2kH5C4k6sBC"
      },
      "source": [
        "procs = [FillMissing, Categorify, Normalize]\n",
        "# The indices of our validation rows\n",
        "n_valid = 12000\n",
        "valid_idx = list(range(n_sample-n_valid, n_sample)) # This is equal to [88000, 88001, ..., 99999]"
      ],
      "execution_count": null,
      "outputs": []
    },
    {
      "cell_type": "code",
      "metadata": {
        "id": "DvXw2Yo6dxTa"
      },
      "source": [
        "small_data = (TabularList.from_df(small_train, cat_names=cat_vars, cont_names=cont_vars, procs=procs)\n",
        "        .split_by_idx(valid_idx)\n",
        "        .label_from_df(dep_var)\n",
        "        .databunch())"
      ],
      "execution_count": null,
      "outputs": []
    },
    {
      "cell_type": "code",
      "metadata": {
        "id": "Rhe-hL6KknIS"
      },
      "source": [
        "layers = [500]\n",
        "metrics = [rmse]\n",
        "y_min, y_max = 0.8*min(small_train[dep_var]), 1.2*max(small_train[dep_var])\n",
        "y_range = (y_min, y_max)\n",
        "ps = [0]\n",
        "emb_drop = 0\n",
        "wd = 1e-1"
      ],
      "execution_count": null,
      "outputs": []
    },
    {
      "cell_type": "code",
      "metadata": {
        "id": "KbBdTTjvtfjh"
      },
      "source": [
        "learn = tabular_learner(small_data, layers=layers, \n",
        "                        metrics=metrics, ps=ps,\n",
        "                        emb_drop=emb_drop, y_range=y_range, wd=wd)"
      ],
      "execution_count": null,
      "outputs": []
    },
    {
      "cell_type": "code",
      "metadata": {
        "id": "G1gTS8Q6DlGQ"
      },
      "source": [
        "def plot_lr_loss():\n",
        "  learn.lr_find(start_lr=1e-4, end_lr=1)\n",
        "  learn.recorder.plot()"
      ],
      "execution_count": null,
      "outputs": []
    },
    {
      "cell_type": "code",
      "metadata": {
        "id": "ieIsjc6bV3CQ"
      },
      "source": [
        "plot_lr_loss()"
      ],
      "execution_count": null,
      "outputs": []
    },
    {
      "cell_type": "code",
      "metadata": {
        "id": "nXA7WwiWD5GY"
      },
      "source": [
        "lr = 3e-4\n",
        "learn.fit_one_cycle(10, lr)"
      ],
      "execution_count": null,
      "outputs": []
    },
    {
      "cell_type": "code",
      "metadata": {
        "id": "xklCJGPLpksw"
      },
      "source": [
        "ps = [1e-1]\n",
        "learn = tabular_learner(small_data, layers=layers, \n",
        "                        metrics=metrics, ps=ps,\n",
        "                        emb_drop=emb_drop, y_range=y_range, wd=wd)"
      ],
      "execution_count": null,
      "outputs": []
    },
    {
      "cell_type": "code",
      "metadata": {
        "id": "RzQyLFuIqKbM"
      },
      "source": [
        "plot_lr_loss()"
      ],
      "execution_count": null,
      "outputs": []
    },
    {
      "cell_type": "code",
      "metadata": {
        "id": "VDUZ3_F-gS0B"
      },
      "source": [
        "lr = 2e-4\n",
        "learn.fit_one_cycle(10, lr)"
      ],
      "execution_count": null,
      "outputs": []
    },
    {
      "cell_type": "code",
      "metadata": {
        "id": "w-XjnPahgjqi"
      },
      "source": [
        "ps = [3e-1]\n",
        "learn = tabular_learner(small_data, layers=layers, \n",
        "                        metrics=metrics, ps=ps,\n",
        "                        emb_drop=emb_drop, y_range=y_range, wd=wd)"
      ],
      "execution_count": null,
      "outputs": []
    },
    {
      "cell_type": "code",
      "metadata": {
        "id": "IUpmqX99tLKV"
      },
      "source": [
        "plot_lr_loss()"
      ],
      "execution_count": null,
      "outputs": []
    },
    {
      "cell_type": "code",
      "metadata": {
        "id": "-FACGRnK-JK5"
      },
      "source": [
        "lr = 3e-4\n",
        "learn.fit_one_cycle(10, lr)"
      ],
      "execution_count": null,
      "outputs": []
    },
    {
      "cell_type": "code",
      "metadata": {
        "id": "sLdSNCpNxNte"
      },
      "source": [
        "ps = [1e-1]"
      ],
      "execution_count": null,
      "outputs": []
    },
    {
      "cell_type": "code",
      "metadata": {
        "id": "R9W-wuu_8bQN"
      },
      "source": [
        "emb_drop = 1e-2\n",
        "learn = tabular_learner(small_data, layers=layers, \n",
        "                        metrics=metrics, ps=ps,\n",
        "                        emb_drop=emb_drop, y_range=y_range, wd=wd)"
      ],
      "execution_count": null,
      "outputs": []
    },
    {
      "cell_type": "code",
      "metadata": {
        "id": "4TZClhMU-FTP"
      },
      "source": [
        "plot_lr_loss()"
      ],
      "execution_count": null,
      "outputs": []
    },
    {
      "cell_type": "code",
      "metadata": {
        "id": "OL5AZ3ps-IQR"
      },
      "source": [
        "lr = 5e-4\n",
        "learn.fit_one_cycle(10, lr)"
      ],
      "execution_count": null,
      "outputs": []
    },
    {
      "cell_type": "code",
      "metadata": {
        "id": "7oLqqvqwAiv_"
      },
      "source": [
        "emb_drop = 3e-2\n",
        "learn = tabular_learner(small_data, layers=layers, \n",
        "                        metrics=metrics, ps=ps,\n",
        "                        emb_drop=emb_drop, y_range=y_range, wd=wd)"
      ],
      "execution_count": null,
      "outputs": []
    },
    {
      "cell_type": "code",
      "metadata": {
        "id": "i6x1gZSvDzMQ"
      },
      "source": [
        "plot_lr_loss()"
      ],
      "execution_count": null,
      "outputs": []
    },
    {
      "cell_type": "code",
      "metadata": {
        "id": "5j4XOFOED5hK"
      },
      "source": [
        "lr = 3e-4\n",
        "learn.fit_one_cycle(10, lr)"
      ],
      "execution_count": null,
      "outputs": []
    },
    {
      "cell_type": "code",
      "metadata": {
        "id": "3e1ZfU3fD_Qq"
      },
      "source": [
        "emb_drop = 1e-2"
      ],
      "execution_count": null,
      "outputs": []
    },
    {
      "cell_type": "code",
      "metadata": {
        "id": "Rot1QEVwF1b2"
      },
      "source": [
        "n_sample = 150000\n",
        "n_test = 12000\n",
        "total = n_sample+n_test\n",
        "# Contains our training (first 150000 rows) and test (last 12000 rows) sets. \n",
        "train_test = df_raw.iloc[-total:]\n",
        "test_idx = list(range(total-n_test, total)) # This is equal to [150000, 150001, ..., 161999]\n",
        "data = (TabularList.from_df(train_test, cat_names=cat_vars, cont_names=cont_vars, procs=procs)\n",
        "        .split_by_idx(test_idx)\n",
        "        .label_from_df(dep_var)\n",
        "        .databunch())"
      ],
      "execution_count": null,
      "outputs": []
    },
    {
      "cell_type": "code",
      "metadata": {
        "id": "X9-jbPVJHk8E"
      },
      "source": [
        "learn = tabular_learner(data, layers=layers, \n",
        "                        metrics=metrics, ps=ps,\n",
        "                        emb_drop=emb_drop, y_range=y_range, wd=wd)"
      ],
      "execution_count": null,
      "outputs": []
    },
    {
      "cell_type": "code",
      "metadata": {
        "id": "5vsQvn20HodP"
      },
      "source": [
        "plot_lr_loss()"
      ],
      "execution_count": null,
      "outputs": []
    },
    {
      "cell_type": "code",
      "metadata": {
        "id": "sCM626JiDwmS"
      },
      "source": [
        "lr = 4e-4\n",
        "learn.fit_one_cycle(10, lr)"
      ],
      "execution_count": null,
      "outputs": []
    },
    {
      "cell_type": "code",
      "metadata": {
        "id": "_K2vi_vrSAnq"
      },
      "source": [
        ""
      ],
      "execution_count": null,
      "outputs": []
    }
  ]
}